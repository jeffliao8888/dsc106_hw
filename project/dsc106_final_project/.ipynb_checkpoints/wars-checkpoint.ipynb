{
 "cells": [
  {
   "cell_type": "code",
   "execution_count": 1,
   "metadata": {},
   "outputs": [],
   "source": [
    "import pandas as pd\n",
    "import numpy as np"
   ]
  },
  {
   "cell_type": "code",
   "execution_count": 20,
   "metadata": {},
   "outputs": [],
   "source": [
    "%matplotlib inline "
   ]
  },
  {
   "cell_type": "code",
   "execution_count": 21,
   "metadata": {},
   "outputs": [],
   "source": [
    "fp = 'data/Military_Expenditure.csv'"
   ]
  },
  {
   "cell_type": "code",
   "execution_count": 22,
   "metadata": {},
   "outputs": [],
   "source": [
    "expenditure = pd.read_csv(fp)"
   ]
  },
  {
   "cell_type": "code",
   "execution_count": 23,
   "metadata": {
    "scrolled": false
   },
   "outputs": [
    {
     "data": {
      "text/html": [
       "<div>\n",
       "<style scoped>\n",
       "    .dataframe tbody tr th:only-of-type {\n",
       "        vertical-align: middle;\n",
       "    }\n",
       "\n",
       "    .dataframe tbody tr th {\n",
       "        vertical-align: top;\n",
       "    }\n",
       "\n",
       "    .dataframe thead th {\n",
       "        text-align: right;\n",
       "    }\n",
       "</style>\n",
       "<table border=\"1\" class=\"dataframe\">\n",
       "  <thead>\n",
       "    <tr style=\"text-align: right;\">\n",
       "      <th></th>\n",
       "      <th>Name</th>\n",
       "      <th>Code</th>\n",
       "      <th>Type</th>\n",
       "      <th>Indicator Name</th>\n",
       "      <th>1960</th>\n",
       "      <th>1961</th>\n",
       "      <th>1962</th>\n",
       "      <th>1963</th>\n",
       "      <th>1964</th>\n",
       "      <th>1965</th>\n",
       "      <th>...</th>\n",
       "      <th>2009</th>\n",
       "      <th>2010</th>\n",
       "      <th>2011</th>\n",
       "      <th>2012</th>\n",
       "      <th>2013</th>\n",
       "      <th>2014</th>\n",
       "      <th>2015</th>\n",
       "      <th>2016</th>\n",
       "      <th>2017</th>\n",
       "      <th>2018</th>\n",
       "    </tr>\n",
       "  </thead>\n",
       "  <tbody>\n",
       "    <tr>\n",
       "      <th>0</th>\n",
       "      <td>Aruba</td>\n",
       "      <td>ABW</td>\n",
       "      <td>Country</td>\n",
       "      <td>Military expenditure (current USD)</td>\n",
       "      <td>NaN</td>\n",
       "      <td>NaN</td>\n",
       "      <td>NaN</td>\n",
       "      <td>NaN</td>\n",
       "      <td>NaN</td>\n",
       "      <td>NaN</td>\n",
       "      <td>...</td>\n",
       "      <td>NaN</td>\n",
       "      <td>NaN</td>\n",
       "      <td>NaN</td>\n",
       "      <td>NaN</td>\n",
       "      <td>NaN</td>\n",
       "      <td>NaN</td>\n",
       "      <td>NaN</td>\n",
       "      <td>NaN</td>\n",
       "      <td>NaN</td>\n",
       "      <td>NaN</td>\n",
       "    </tr>\n",
       "    <tr>\n",
       "      <th>1</th>\n",
       "      <td>Afghanistan</td>\n",
       "      <td>AFG</td>\n",
       "      <td>Country</td>\n",
       "      <td>Military expenditure (current USD)</td>\n",
       "      <td>NaN</td>\n",
       "      <td>NaN</td>\n",
       "      <td>NaN</td>\n",
       "      <td>NaN</td>\n",
       "      <td>NaN</td>\n",
       "      <td>NaN</td>\n",
       "      <td>...</td>\n",
       "      <td>2.518695e+08</td>\n",
       "      <td>2.981469e+08</td>\n",
       "      <td>3.258070e+08</td>\n",
       "      <td>2.385834e+08</td>\n",
       "      <td>2.171941e+08</td>\n",
       "      <td>2.682271e+08</td>\n",
       "      <td>1.995186e+08</td>\n",
       "      <td>1.858783e+08</td>\n",
       "      <td>1.914071e+08</td>\n",
       "      <td>1.980863e+08</td>\n",
       "    </tr>\n",
       "    <tr>\n",
       "      <th>2</th>\n",
       "      <td>Angola</td>\n",
       "      <td>AGO</td>\n",
       "      <td>Country</td>\n",
       "      <td>Military expenditure (current USD)</td>\n",
       "      <td>NaN</td>\n",
       "      <td>NaN</td>\n",
       "      <td>NaN</td>\n",
       "      <td>NaN</td>\n",
       "      <td>NaN</td>\n",
       "      <td>NaN</td>\n",
       "      <td>...</td>\n",
       "      <td>3.311193e+09</td>\n",
       "      <td>3.500795e+09</td>\n",
       "      <td>3.639496e+09</td>\n",
       "      <td>4.144635e+09</td>\n",
       "      <td>6.090752e+09</td>\n",
       "      <td>6.841864e+09</td>\n",
       "      <td>3.608299e+09</td>\n",
       "      <td>2.764055e+09</td>\n",
       "      <td>3.062873e+09</td>\n",
       "      <td>1.983614e+09</td>\n",
       "    </tr>\n",
       "    <tr>\n",
       "      <th>3</th>\n",
       "      <td>Albania</td>\n",
       "      <td>ALB</td>\n",
       "      <td>Country</td>\n",
       "      <td>Military expenditure (current USD)</td>\n",
       "      <td>NaN</td>\n",
       "      <td>NaN</td>\n",
       "      <td>NaN</td>\n",
       "      <td>NaN</td>\n",
       "      <td>NaN</td>\n",
       "      <td>NaN</td>\n",
       "      <td>...</td>\n",
       "      <td>1.827369e+08</td>\n",
       "      <td>1.858932e+08</td>\n",
       "      <td>1.970068e+08</td>\n",
       "      <td>1.832047e+08</td>\n",
       "      <td>1.800155e+08</td>\n",
       "      <td>1.781204e+08</td>\n",
       "      <td>1.323507e+08</td>\n",
       "      <td>1.308532e+08</td>\n",
       "      <td>1.443827e+08</td>\n",
       "      <td>1.804887e+08</td>\n",
       "    </tr>\n",
       "    <tr>\n",
       "      <th>4</th>\n",
       "      <td>Andorra</td>\n",
       "      <td>AND</td>\n",
       "      <td>Country</td>\n",
       "      <td>Military expenditure (current USD)</td>\n",
       "      <td>NaN</td>\n",
       "      <td>NaN</td>\n",
       "      <td>NaN</td>\n",
       "      <td>NaN</td>\n",
       "      <td>NaN</td>\n",
       "      <td>NaN</td>\n",
       "      <td>...</td>\n",
       "      <td>NaN</td>\n",
       "      <td>NaN</td>\n",
       "      <td>NaN</td>\n",
       "      <td>NaN</td>\n",
       "      <td>NaN</td>\n",
       "      <td>NaN</td>\n",
       "      <td>NaN</td>\n",
       "      <td>NaN</td>\n",
       "      <td>NaN</td>\n",
       "      <td>NaN</td>\n",
       "    </tr>\n",
       "  </tbody>\n",
       "</table>\n",
       "<p>5 rows × 63 columns</p>\n",
       "</div>"
      ],
      "text/plain": [
       "          Name Code     Type                      Indicator Name  1960  1961  \\\n",
       "0        Aruba  ABW  Country  Military expenditure (current USD)   NaN   NaN   \n",
       "1  Afghanistan  AFG  Country  Military expenditure (current USD)   NaN   NaN   \n",
       "2       Angola  AGO  Country  Military expenditure (current USD)   NaN   NaN   \n",
       "3      Albania  ALB  Country  Military expenditure (current USD)   NaN   NaN   \n",
       "4      Andorra  AND  Country  Military expenditure (current USD)   NaN   NaN   \n",
       "\n",
       "   1962  1963  1964  1965  ...          2009          2010          2011  \\\n",
       "0   NaN   NaN   NaN   NaN  ...           NaN           NaN           NaN   \n",
       "1   NaN   NaN   NaN   NaN  ...  2.518695e+08  2.981469e+08  3.258070e+08   \n",
       "2   NaN   NaN   NaN   NaN  ...  3.311193e+09  3.500795e+09  3.639496e+09   \n",
       "3   NaN   NaN   NaN   NaN  ...  1.827369e+08  1.858932e+08  1.970068e+08   \n",
       "4   NaN   NaN   NaN   NaN  ...           NaN           NaN           NaN   \n",
       "\n",
       "           2012          2013          2014          2015          2016  \\\n",
       "0           NaN           NaN           NaN           NaN           NaN   \n",
       "1  2.385834e+08  2.171941e+08  2.682271e+08  1.995186e+08  1.858783e+08   \n",
       "2  4.144635e+09  6.090752e+09  6.841864e+09  3.608299e+09  2.764055e+09   \n",
       "3  1.832047e+08  1.800155e+08  1.781204e+08  1.323507e+08  1.308532e+08   \n",
       "4           NaN           NaN           NaN           NaN           NaN   \n",
       "\n",
       "           2017          2018  \n",
       "0           NaN           NaN  \n",
       "1  1.914071e+08  1.980863e+08  \n",
       "2  3.062873e+09  1.983614e+09  \n",
       "3  1.443827e+08  1.804887e+08  \n",
       "4           NaN           NaN  \n",
       "\n",
       "[5 rows x 63 columns]"
      ]
     },
     "execution_count": 23,
     "metadata": {},
     "output_type": "execute_result"
    }
   ],
   "source": [
    "expenditure.head()"
   ]
  },
  {
   "cell_type": "code",
   "execution_count": 24,
   "metadata": {},
   "outputs": [],
   "source": [
    "country_expenditure_2018 = expenditure.loc[expenditure['Type']=='Country'][['Name', '2018']].dropna().sort_values(by = '2018', ascending = False)"
   ]
  },
  {
   "cell_type": "code",
   "execution_count": 26,
   "metadata": {},
   "outputs": [],
   "source": [
    "country_expenditure_2018.to_csv('to_plot/all_country_2018.csv', index = False)"
   ]
  },
  {
   "cell_type": "code",
   "execution_count": 27,
   "metadata": {},
   "outputs": [
    {
     "data": {
      "text/plain": [
       "array(['Country', 'Regions Clubbed Geographically',\n",
       "       'Semi Autonomous Region', 'Regions Clubbed Economically'],\n",
       "      dtype=object)"
      ]
     },
     "execution_count": 27,
     "metadata": {},
     "output_type": "execute_result"
    }
   ],
   "source": [
    "expenditure['Type'].unique()"
   ]
  },
  {
   "cell_type": "code",
   "execution_count": 28,
   "metadata": {},
   "outputs": [],
   "source": [
    "rankings = expenditure.sort_values(by = '2018', ascending = False)"
   ]
  },
  {
   "cell_type": "code",
   "execution_count": 29,
   "metadata": {},
   "outputs": [
    {
     "data": {
      "text/plain": [
       "<matplotlib.axes._subplots.AxesSubplot at 0x1e789aa28d0>"
      ]
     },
     "execution_count": 29,
     "metadata": {},
     "output_type": "execute_result"
    },
    {
     "data": {
      "image/png": "[encoded data removed]",
      "text/plain": [
       "<Figure size 432x288 with 1 Axes>"
      ]
     },
     "metadata": {
      "needs_background": "light"
     },
     "output_type": "display_data"
    }
   ],
   "source": [
    "top10 = rankings.loc[rankings['Type'] == 'Country'][['Name', '2018']].iloc[:10]\n",
    "top10.set_index('Name')['2018'].plot(kind = 'barh')"
   ]
  },
  {
   "cell_type": "code",
   "execution_count": 31,
   "metadata": {},
   "outputs": [
    {
     "data": {
      "text/html": [
       "<div>\n",
       "<style scoped>\n",
       "    .dataframe tbody tr th:only-of-type {\n",
       "        vertical-align: middle;\n",
       "    }\n",
       "\n",
       "    .dataframe tbody tr th {\n",
       "        vertical-align: top;\n",
       "    }\n",
       "\n",
       "    .dataframe thead th {\n",
       "        text-align: right;\n",
       "    }\n",
       "</style>\n",
       "<table border=\"1\" class=\"dataframe\">\n",
       "  <thead>\n",
       "    <tr style=\"text-align: right;\">\n",
       "      <th></th>\n",
       "      <th>Name</th>\n",
       "      <th>2018</th>\n",
       "    </tr>\n",
       "  </thead>\n",
       "  <tbody>\n",
       "    <tr>\n",
       "      <th>249</th>\n",
       "      <td>United States</td>\n",
       "      <td>6.490000e+11</td>\n",
       "    </tr>\n",
       "    <tr>\n",
       "      <th>38</th>\n",
       "      <td>China</td>\n",
       "      <td>2.500000e+11</td>\n",
       "    </tr>\n",
       "    <tr>\n",
       "      <th>203</th>\n",
       "      <td>Saudi Arabia</td>\n",
       "      <td>6.755467e+10</td>\n",
       "    </tr>\n",
       "    <tr>\n",
       "      <th>107</th>\n",
       "      <td>India</td>\n",
       "      <td>6.651029e+10</td>\n",
       "    </tr>\n",
       "    <tr>\n",
       "      <th>75</th>\n",
       "      <td>France</td>\n",
       "      <td>6.379968e+10</td>\n",
       "    </tr>\n",
       "  </tbody>\n",
       "</table>\n",
       "</div>"
      ],
      "text/plain": [
       "              Name          2018\n",
       "249  United States  6.490000e+11\n",
       "38           China  2.500000e+11\n",
       "203   Saudi Arabia  6.755467e+10\n",
       "107          India  6.651029e+10\n",
       "75          France  6.379968e+10"
      ]
     },
     "execution_count": 31,
     "metadata": {},
     "output_type": "execute_result"
    }
   ],
   "source": [
    "top10.head()"
   ]
  },
  {
   "cell_type": "code",
   "execution_count": 32,
   "metadata": {},
   "outputs": [],
   "source": [
    "top10.to_csv('to_plot/top_10.csv',index=False)"
   ]
  },
  {
   "cell_type": "code",
   "execution_count": 68,
   "metadata": {},
   "outputs": [],
   "source": [
    "world = rankings.iloc[0]"
   ]
  },
  {
   "cell_type": "code",
   "execution_count": 30,
   "metadata": {},
   "outputs": [],
   "source": [
    "cn_usa = expenditure.loc[(expenditure['Code'] == \"CHN\") | (expenditure['Code'] == 'USA')].T.iloc[4:]\n",
    "cn_usa.columns = ['China', \"\\'Murica\"]"
   ]
  },
  {
   "cell_type": "code",
   "execution_count": 31,
   "metadata": {},
   "outputs": [
    {
     "data": {
      "text/plain": [
       "<matplotlib.axes._subplots.AxesSubplot at 0x1dcf83eb320>"
      ]
     },
     "execution_count": 31,
     "metadata": {},
     "output_type": "execute_result"
    },
    {
     "data": {
      "image/png": "[encoded data removed]",
      "text/plain": [
       "<Figure size 432x288 with 1 Axes>"
      ]
     },
     "metadata": {
      "needs_background": "light"
     },
     "output_type": "display_data"
    }
   ],
   "source": [
    "cn_usa.plot(kind = 'line')"
   ]
  },
  {
   "cell_type": "markdown",
   "metadata": {},
   "source": [
    "-------------"
   ]
  },
  {
   "cell_type": "markdown",
   "metadata": {},
   "source": [
    "1991 drop: dick chiney cuts millitary budget"
   ]
  },
  {
   "cell_type": "code",
   "execution_count": 14,
   "metadata": {
    "scrolled": true
   },
   "outputs": [
    {
     "data": {
      "text/plain": [
       "<matplotlib.axes._subplots.AxesSubplot at 0x1dcf83529b0>"
      ]
     },
     "execution_count": 14,
     "metadata": {},
     "output_type": "execute_result"
    },
    {
     "data": {
      "image/png": "[encoded data removed]",
      "text/plain": [
       "<Figure size 432x288 with 1 Axes>"
      ]
     },
     "metadata": {
      "needs_background": "light"
     },
     "output_type": "display_data"
    }
   ],
   "source": [
    "expenditure.loc[expenditure['Code'] == 'USA'].T.iloc[4:, 0].plot(kind = 'line')"
   ]
  },
  {
   "cell_type": "markdown",
   "metadata": {},
   "source": [
    "1. 1960–1975\tVietnam War\t<br>United States and South Vietnam vs. North Vietnam<br>\n",
    "2. 1961\tBay of Pigs Invasion\t<br>United States vs. Cuba<br>\n",
    "1. 1983\tGrenada\t<br>United States Intervention<br>\n",
    "1. 1989\tUS Invasion of Panama\t<br>United States vs. Panama<br>\n",
    "1. 1990–1991\tPersian Gulf War<br>\tUnited States and Coalition Forces vs. Iraq<br>\n",
    "1. 1995–1996\tIntervention in Bosnia and Herzegovina\t<br>United States as part of NATO acted peacekeepers in former Yugoslavia<br>\n",
    "1. 2001–present\tInvasion of Afghanistan<br>\tUnited States and Coalition Forces vs. the Taliban regime in Afghanistan to fight terrorism.<br>\n",
    "1. 2003–2011\tInvasion of Iraq<br> United States and Coalition Forces vs. Iraq<br>\n",
    "\n",
    "1. 2004–present\tWar in Northwest Pakistan<br>\tUnited States vs. Pakstan, mainly drone attacks<br>\n",
    "1. 2007–present\tSomalia and Northeastern Kenya<br>\tUnited States and Coalition forces vs. al-Shabaab militants<br>\n",
    "1. 2009–2016\tOperation Ocean Shield (Indian Ocean)<br>\tNATO allies vs. Somali pirates<br>\n",
    "1. 2011\tIntervention in Libya<br>\tUS and NATO allies vs. Libya<br>\n",
    "1. 2011–2017\tLord's Resistance Army<br>\tUS and allies against the Lord's Resistance Army in Uganda<br>\n",
    "1. 2014–2017\tUS-led Intervention in Iraq<br>\tUS and coalition forces against the Islamic State of Iraq and Syria<br>\n",
    "1. 2014–present\tUS-led intervention in Syria<br>\tUS and coalition forces against al-Qaeda, Isis, and Syria<br>\n",
    "1. 2015–present\tYemeni Civil War<br>\tSaudi-led coalition and US, France and Kingdom against the Houthi rebels, Supreme Political Council in Yemen and allies<br>\n",
    "1. 2015–present\tUS intervention in Libya<br>\tUS and Libya against ISIS<br>"
   ]
  },
  {
   "cell_type": "markdown",
   "metadata": {},
   "source": [
    "source<br>\n",
    "https://www.thoughtco.com/american-involvement-wars-colonial-times-present-4059761<br>\n",
    "https://www.nytimes.com/1990/01/30/us/the-1991-budget-armed-forces-cheney-would-cut-divisions-in-army-but-maintain-b-2.html"
   ]
  },
  {
   "cell_type": "code",
   "execution_count": null,
   "metadata": {},
   "outputs": [],
   "source": []
  },
  {
   "cell_type": "markdown",
   "metadata": {},
   "source": [
    "# But War, War never changes"
   ]
  },
  {
   "cell_type": "markdown",
   "metadata": {},
   "source": [
    "Choropleth of sum of war expenditure, and zoom in on the top 10"
   ]
  },
  {
   "cell_type": "markdown",
   "metadata": {},
   "source": [
    "Choropleth Map"
   ]
  },
  {
   "cell_type": "code",
   "execution_count": 69,
   "metadata": {},
   "outputs": [
    {
     "data": {
      "text/plain": [
       "<matplotlib.axes._subplots.AxesSubplot at 0x1dcf9905908>"
      ]
     },
     "execution_count": 69,
     "metadata": {},
     "output_type": "execute_result"
    },
    {
     "data": {
      "image/png": "[encoded data removed]",
      "text/plain": [
       "<Figure size 432x288 with 1 Axes>"
      ]
     },
     "metadata": {
      "needs_background": "light"
     },
     "output_type": "display_data"
    }
   ],
   "source": [
    "top10.set_index('Name')['2018'].plot(kind = 'barh')"
   ]
  },
  {
   "cell_type": "markdown",
   "metadata": {},
   "source": [
    "# Peace in our time"
   ]
  },
  {
   "cell_type": "markdown",
   "metadata": {},
   "source": [
    "World expenditure in GDP%"
   ]
  },
  {
   "cell_type": "code",
   "execution_count": 36,
   "metadata": {},
   "outputs": [],
   "source": [
    "exp_gdp_fp = 'data/expenditure_in_GDP.csv'"
   ]
  },
  {
   "cell_type": "code",
   "execution_count": 39,
   "metadata": {},
   "outputs": [],
   "source": [
    "gdp_expenditure = pd.read_csv(exp_gdp_fp)"
   ]
  },
  {
   "cell_type": "code",
   "execution_count": 40,
   "metadata": {},
   "outputs": [],
   "source": [
    "world_gdp_millitary = gdp_expenditure.loc[gdp_expenditure['Country Name'] == \"World\"].iloc[:, 4:].T\n",
    "world_gdp_millitary.columns = ['World']"
   ]
  },
  {
   "cell_type": "code",
   "execution_count": 41,
   "metadata": {},
   "outputs": [],
   "source": [
    "world_gdp_millitary.to_csv('to_plot/world_army_in_gdp_percent.csv')"
   ]
  },
  {
   "cell_type": "markdown",
   "metadata": {},
   "source": [
    "Deployed troops"
   ]
  },
  {
   "cell_type": "code",
   "execution_count": 42,
   "metadata": {},
   "outputs": [],
   "source": [
    "dep_unit_fp = 'data/total_units.csv'"
   ]
  },
  {
   "cell_type": "code",
   "execution_count": 44,
   "metadata": {},
   "outputs": [],
   "source": [
    "dep_unit_df = pd.read_csv(dep_unit_fp, skiprows = 4)"
   ]
  },
  {
   "cell_type": "code",
   "execution_count": 49,
   "metadata": {},
   "outputs": [
    {
     "data": {
      "text/plain": [
       "<matplotlib.axes._subplots.AxesSubplot at 0x1e789b80f98>"
      ]
     },
     "execution_count": 49,
     "metadata": {},
     "output_type": "execute_result"
    },
    {
     "data": {
      "image/png": "[encoded data removed]",
      "text/plain": [
       "<Figure size 432x288 with 1 Axes>"
      ]
     },
     "metadata": {
      "needs_background": "light"
     },
     "output_type": "display_data"
    }
   ],
   "source": [
    "dep_unit_df.iloc[:, 4:].sum().plot(kind = 'line')"
   ]
  },
  {
   "cell_type": "markdown",
   "metadata": {},
   "source": [
    "War Casualty"
   ]
  },
  {
   "cell_type": "code",
   "execution_count": 70,
   "metadata": {},
   "outputs": [],
   "source": [
    "death_fp = 'data/battle_deaths.csv'"
   ]
  },
  {
   "cell_type": "code",
   "execution_count": 74,
   "metadata": {},
   "outputs": [],
   "source": [
    "death_df = pd.read_csv(death_fp).drop('Code', axis = 1)"
   ]
  },
  {
   "cell_type": "code",
   "execution_count": 76,
   "metadata": {},
   "outputs": [],
   "source": [
    "death_df.to_csv('death.csv', index = False)"
   ]
  },
  {
   "cell_type": "code",
   "execution_count": 78,
   "metadata": {},
   "outputs": [
    {
     "data": {
      "text/html": [
       "<div>\n",
       "<style scoped>\n",
       "    .dataframe tbody tr th:only-of-type {\n",
       "        vertical-align: middle;\n",
       "    }\n",
       "\n",
       "    .dataframe tbody tr th {\n",
       "        vertical-align: top;\n",
       "    }\n",
       "\n",
       "    .dataframe thead th {\n",
       "        text-align: right;\n",
       "    }\n",
       "</style>\n",
       "<table border=\"1\" class=\"dataframe\">\n",
       "  <thead>\n",
       "    <tr style=\"text-align: right;\">\n",
       "      <th></th>\n",
       "      <th>Entity</th>\n",
       "      <th>Year</th>\n",
       "      <th>Battle-related deaths</th>\n",
       "    </tr>\n",
       "  </thead>\n",
       "  <tbody>\n",
       "    <tr>\n",
       "      <th>0</th>\n",
       "      <td>Africa (inc. North Africa)</td>\n",
       "      <td>1946</td>\n",
       "      <td>0.0</td>\n",
       "    </tr>\n",
       "    <tr>\n",
       "      <th>1</th>\n",
       "      <td>Africa (inc. North Africa)</td>\n",
       "      <td>1947</td>\n",
       "      <td>0.0</td>\n",
       "    </tr>\n",
       "    <tr>\n",
       "      <th>2</th>\n",
       "      <td>Africa (inc. North Africa)</td>\n",
       "      <td>1948</td>\n",
       "      <td>0.0</td>\n",
       "    </tr>\n",
       "    <tr>\n",
       "      <th>3</th>\n",
       "      <td>Africa (inc. North Africa)</td>\n",
       "      <td>1949</td>\n",
       "      <td>0.0</td>\n",
       "    </tr>\n",
       "    <tr>\n",
       "      <th>4</th>\n",
       "      <td>Africa (inc. North Africa)</td>\n",
       "      <td>1950</td>\n",
       "      <td>0.0</td>\n",
       "    </tr>\n",
       "  </tbody>\n",
       "</table>\n",
       "</div>"
      ],
      "text/plain": [
       "                       Entity  Year  Battle-related deaths\n",
       "0  Africa (inc. North Africa)  1946                    0.0\n",
       "1  Africa (inc. North Africa)  1947                    0.0\n",
       "2  Africa (inc. North Africa)  1948                    0.0\n",
       "3  Africa (inc. North Africa)  1949                    0.0\n",
       "4  Africa (inc. North Africa)  1950                    0.0"
      ]
     },
     "execution_count": 78,
     "metadata": {},
     "output_type": "execute_result"
    }
   ],
   "source": [
    "death_df.head()"
   ]
  },
  {
   "cell_type": "code",
   "execution_count": null,
   "metadata": {},
   "outputs": [],
   "source": [
    "pd.pivot_table(data=death_df, index='Year', columns=\"Entity\", values=\"Battle-related deaths\")"
   ]
  }
 ],
 "metadata": {
  "kernelspec": {
   "display_name": "Python 3",
   "language": "python",
   "name": "python3"
  },
  "language_info": {
   "codemirror_mode": {
    "name": "ipython",
    "version": 3
   },
   "file_extension": ".py",
   "mimetype": "text/x-python",
   "name": "python",
   "nbconvert_exporter": "python",
   "pygments_lexer": "ipython3",
   "version": "3.7.2"
  }
 },
 "nbformat": 4,
 "nbformat_minor": 2
}
