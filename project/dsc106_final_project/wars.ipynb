{
 "cells": [
  {
   "cell_type": "code",
   "execution_count": 1,
   "metadata": {},
   "outputs": [],
   "source": [
    "import pandas as pd\n",
    "import numpy as np"
   ]
  },
  {
   "cell_type": "code",
   "execution_count": 2,
   "metadata": {},
   "outputs": [],
   "source": [
    "%matplotlib inline "
   ]
  },
  {
   "cell_type": "code",
   "execution_count": 3,
   "metadata": {},
   "outputs": [],
   "source": [
    "fp = 'data/Military_Expenditure.csv'"
   ]
  },
  {
   "cell_type": "code",
   "execution_count": 4,
   "metadata": {},
   "outputs": [],
   "source": [
    "expenditure = pd.read_csv(fp)"
   ]
  },
  {
   "cell_type": "code",
   "execution_count": 5,
   "metadata": {
    "scrolled": false
   },
   "outputs": [
    {
     "data": {
      "text/html": [
       "<div>\n",
       "<style scoped>\n",
       "    .dataframe tbody tr th:only-of-type {\n",
       "        vertical-align: middle;\n",
       "    }\n",
       "\n",
       "    .dataframe tbody tr th {\n",
       "        vertical-align: top;\n",
       "    }\n",
       "\n",
       "    .dataframe thead th {\n",
       "        text-align: right;\n",
       "    }\n",
       "</style>\n",
       "<table border=\"1\" class=\"dataframe\">\n",
       "  <thead>\n",
       "    <tr style=\"text-align: right;\">\n",
       "      <th></th>\n",
       "      <th>Name</th>\n",
       "      <th>Code</th>\n",
       "      <th>Type</th>\n",
       "      <th>Indicator Name</th>\n",
       "      <th>1960</th>\n",
       "      <th>1961</th>\n",
       "      <th>1962</th>\n",
       "      <th>1963</th>\n",
       "      <th>1964</th>\n",
       "      <th>1965</th>\n",
       "      <th>...</th>\n",
       "      <th>2009</th>\n",
       "      <th>2010</th>\n",
       "      <th>2011</th>\n",
       "      <th>2012</th>\n",
       "      <th>2013</th>\n",
       "      <th>2014</th>\n",
       "      <th>2015</th>\n",
       "      <th>2016</th>\n",
       "      <th>2017</th>\n",
       "      <th>2018</th>\n",
       "    </tr>\n",
       "  </thead>\n",
       "  <tbody>\n",
       "    <tr>\n",
       "      <th>0</th>\n",
       "      <td>Aruba</td>\n",
       "      <td>ABW</td>\n",
       "      <td>Country</td>\n",
       "      <td>Military expenditure (current USD)</td>\n",
       "      <td>NaN</td>\n",
       "      <td>NaN</td>\n",
       "      <td>NaN</td>\n",
       "      <td>NaN</td>\n",
       "      <td>NaN</td>\n",
       "      <td>NaN</td>\n",
       "      <td>...</td>\n",
       "      <td>NaN</td>\n",
       "      <td>NaN</td>\n",
       "      <td>NaN</td>\n",
       "      <td>NaN</td>\n",
       "      <td>NaN</td>\n",
       "      <td>NaN</td>\n",
       "      <td>NaN</td>\n",
       "      <td>NaN</td>\n",
       "      <td>NaN</td>\n",
       "      <td>NaN</td>\n",
       "    </tr>\n",
       "    <tr>\n",
       "      <th>1</th>\n",
       "      <td>Afghanistan</td>\n",
       "      <td>AFG</td>\n",
       "      <td>Country</td>\n",
       "      <td>Military expenditure (current USD)</td>\n",
       "      <td>NaN</td>\n",
       "      <td>NaN</td>\n",
       "      <td>NaN</td>\n",
       "      <td>NaN</td>\n",
       "      <td>NaN</td>\n",
       "      <td>NaN</td>\n",
       "      <td>...</td>\n",
       "      <td>2.518695e+08</td>\n",
       "      <td>2.981469e+08</td>\n",
       "      <td>3.258070e+08</td>\n",
       "      <td>2.385834e+08</td>\n",
       "      <td>2.171941e+08</td>\n",
       "      <td>2.682271e+08</td>\n",
       "      <td>1.995186e+08</td>\n",
       "      <td>1.858783e+08</td>\n",
       "      <td>1.914071e+08</td>\n",
       "      <td>1.980863e+08</td>\n",
       "    </tr>\n",
       "    <tr>\n",
       "      <th>2</th>\n",
       "      <td>Angola</td>\n",
       "      <td>AGO</td>\n",
       "      <td>Country</td>\n",
       "      <td>Military expenditure (current USD)</td>\n",
       "      <td>NaN</td>\n",
       "      <td>NaN</td>\n",
       "      <td>NaN</td>\n",
       "      <td>NaN</td>\n",
       "      <td>NaN</td>\n",
       "      <td>NaN</td>\n",
       "      <td>...</td>\n",
       "      <td>3.311193e+09</td>\n",
       "      <td>3.500795e+09</td>\n",
       "      <td>3.639496e+09</td>\n",
       "      <td>4.144635e+09</td>\n",
       "      <td>6.090752e+09</td>\n",
       "      <td>6.841864e+09</td>\n",
       "      <td>3.608299e+09</td>\n",
       "      <td>2.764055e+09</td>\n",
       "      <td>3.062873e+09</td>\n",
       "      <td>1.983614e+09</td>\n",
       "    </tr>\n",
       "    <tr>\n",
       "      <th>3</th>\n",
       "      <td>Albania</td>\n",
       "      <td>ALB</td>\n",
       "      <td>Country</td>\n",
       "      <td>Military expenditure (current USD)</td>\n",
       "      <td>NaN</td>\n",
       "      <td>NaN</td>\n",
       "      <td>NaN</td>\n",
       "      <td>NaN</td>\n",
       "      <td>NaN</td>\n",
       "      <td>NaN</td>\n",
       "      <td>...</td>\n",
       "      <td>1.827369e+08</td>\n",
       "      <td>1.858932e+08</td>\n",
       "      <td>1.970068e+08</td>\n",
       "      <td>1.832047e+08</td>\n",
       "      <td>1.800155e+08</td>\n",
       "      <td>1.781204e+08</td>\n",
       "      <td>1.323507e+08</td>\n",
       "      <td>1.308532e+08</td>\n",
       "      <td>1.443827e+08</td>\n",
       "      <td>1.804887e+08</td>\n",
       "    </tr>\n",
       "    <tr>\n",
       "      <th>4</th>\n",
       "      <td>Andorra</td>\n",
       "      <td>AND</td>\n",
       "      <td>Country</td>\n",
       "      <td>Military expenditure (current USD)</td>\n",
       "      <td>NaN</td>\n",
       "      <td>NaN</td>\n",
       "      <td>NaN</td>\n",
       "      <td>NaN</td>\n",
       "      <td>NaN</td>\n",
       "      <td>NaN</td>\n",
       "      <td>...</td>\n",
       "      <td>NaN</td>\n",
       "      <td>NaN</td>\n",
       "      <td>NaN</td>\n",
       "      <td>NaN</td>\n",
       "      <td>NaN</td>\n",
       "      <td>NaN</td>\n",
       "      <td>NaN</td>\n",
       "      <td>NaN</td>\n",
       "      <td>NaN</td>\n",
       "      <td>NaN</td>\n",
       "    </tr>\n",
       "  </tbody>\n",
       "</table>\n",
       "<p>5 rows × 63 columns</p>\n",
       "</div>"
      ],
      "text/plain": [
       "          Name Code     Type                      Indicator Name  1960  1961  \\\n",
       "0        Aruba  ABW  Country  Military expenditure (current USD)   NaN   NaN   \n",
       "1  Afghanistan  AFG  Country  Military expenditure (current USD)   NaN   NaN   \n",
       "2       Angola  AGO  Country  Military expenditure (current USD)   NaN   NaN   \n",
       "3      Albania  ALB  Country  Military expenditure (current USD)   NaN   NaN   \n",
       "4      Andorra  AND  Country  Military expenditure (current USD)   NaN   NaN   \n",
       "\n",
       "   1962  1963  1964  1965  ...          2009          2010          2011  \\\n",
       "0   NaN   NaN   NaN   NaN  ...           NaN           NaN           NaN   \n",
       "1   NaN   NaN   NaN   NaN  ...  2.518695e+08  2.981469e+08  3.258070e+08   \n",
       "2   NaN   NaN   NaN   NaN  ...  3.311193e+09  3.500795e+09  3.639496e+09   \n",
       "3   NaN   NaN   NaN   NaN  ...  1.827369e+08  1.858932e+08  1.970068e+08   \n",
       "4   NaN   NaN   NaN   NaN  ...           NaN           NaN           NaN   \n",
       "\n",
       "           2012          2013          2014          2015          2016  \\\n",
       "0           NaN           NaN           NaN           NaN           NaN   \n",
       "1  2.385834e+08  2.171941e+08  2.682271e+08  1.995186e+08  1.858783e+08   \n",
       "2  4.144635e+09  6.090752e+09  6.841864e+09  3.608299e+09  2.764055e+09   \n",
       "3  1.832047e+08  1.800155e+08  1.781204e+08  1.323507e+08  1.308532e+08   \n",
       "4           NaN           NaN           NaN           NaN           NaN   \n",
       "\n",
       "           2017          2018  \n",
       "0           NaN           NaN  \n",
       "1  1.914071e+08  1.980863e+08  \n",
       "2  3.062873e+09  1.983614e+09  \n",
       "3  1.443827e+08  1.804887e+08  \n",
       "4           NaN           NaN  \n",
       "\n",
       "[5 rows x 63 columns]"
      ]
     },
     "execution_count": 5,
     "metadata": {},
     "output_type": "execute_result"
    }
   ],
   "source": [
    "expenditure.head()"
   ]
  },
  {
   "cell_type": "code",
   "execution_count": 6,
   "metadata": {},
   "outputs": [],
   "source": [
    "country_expenditure_2018 = expenditure.loc[expenditure['Type']=='Country'][['Name', '2018']].dropna().sort_values(by = '2018', ascending = False)"
   ]
  },
  {
   "cell_type": "code",
   "execution_count": 7,
   "metadata": {},
   "outputs": [],
   "source": [
    "country_expenditure_2018.to_csv('to_plot/all_country_2018.csv', index = False)"
   ]
  },
  {
   "cell_type": "code",
   "execution_count": 8,
   "metadata": {},
   "outputs": [
    {
     "data": {
      "text/plain": [
       "array(['Country', 'Regions Clubbed Geographically',\n",
       "       'Semi Autonomous Region', 'Regions Clubbed Economically'],\n",
       "      dtype=object)"
      ]
     },
     "execution_count": 8,
     "metadata": {},
     "output_type": "execute_result"
    }
   ],
   "source": [
    "expenditure['Type'].unique()"
   ]
  },
  {
   "cell_type": "code",
   "execution_count": 9,
   "metadata": {},
   "outputs": [],
   "source": [
    "rankings = expenditure.sort_values(by = '2018', ascending = False)"
   ]
  },
  {
   "cell_type": "code",
   "execution_count": 16,
   "metadata": {},
   "outputs": [
    {
     "data": {
      "text/plain": [
       "<matplotlib.axes._subplots.AxesSubplot at 0x1dd3cb44908>"
      ]
     },
     "execution_count": 16,
     "metadata": {},
     "output_type": "execute_result"
    },
    {
     "data": {
      "image/png": "[encoded data removed]",
      "text/plain": [
       "<Figure size 432x288 with 1 Axes>"
      ]
     },
     "metadata": {
      "needs_background": "light"
     },
     "output_type": "display_data"
    }
   ],
   "source": [
    "top10 = rankings.loc[rankings['Type'] == 'Country'][['Name', '2018']].iloc[:10]\n",
    "top10.set_index('Name')['2018'].plot(kind = 'barh')"
   ]
  },
  {
   "cell_type": "code",
   "execution_count": 18,
   "metadata": {},
   "outputs": [],
   "source": [
    "top10['2018'] = top10['2018']/1e10"
   ]
  },
  {
   "cell_type": "code",
   "execution_count": 19,
   "metadata": {},
   "outputs": [],
   "source": [
    "(top10[['Name','2018']]).to_csv('to_plot/top_10.csv',index=False)"
   ]
  },
  {
   "cell_type": "code",
   "execution_count": 20,
   "metadata": {},
   "outputs": [],
   "source": [
    "world = rankings.iloc[0]"
   ]
  },
  {
   "cell_type": "code",
   "execution_count": 21,
   "metadata": {},
   "outputs": [],
   "source": [
    "cn_usa = expenditure.loc[(expenditure['Code'] == \"CHN\") | (expenditure['Code'] == 'USA')].T.iloc[4:]\n",
    "cn_usa.columns = ['China', \"\\'Murica\"]"
   ]
  },
  {
   "cell_type": "code",
   "execution_count": 22,
   "metadata": {},
   "outputs": [
    {
     "data": {
      "text/plain": [
       "<matplotlib.axes._subplots.AxesSubplot at 0x1dd3cbb2828>"
      ]
     },
     "execution_count": 22,
     "metadata": {},
     "output_type": "execute_result"
    },
    {
     "data": {
      "image/png": "[encoded data removed]",
      "text/plain": [
       "<Figure size 432x288 with 1 Axes>"
      ]
     },
     "metadata": {
      "needs_background": "light"
     },
     "output_type": "display_data"
    }
   ],
   "source": [
    "cn_usa.plot(kind = 'line')"
   ]
  },
  {
   "cell_type": "markdown",
   "metadata": {},
   "source": [
    "-------------"
   ]
  },
  {
   "cell_type": "markdown",
   "metadata": {},
   "source": [
    "1991 drop: dick chiney cuts millitary budget"
   ]
  },
  {
   "cell_type": "code",
   "execution_count": 14,
   "metadata": {
    "scrolled": true
   },
   "outputs": [
    {
     "data": {
      "text/plain": [
       "<matplotlib.axes._subplots.AxesSubplot at 0x1dcf83529b0>"
      ]
     },
     "execution_count": 14,
     "metadata": {},
     "output_type": "execute_result"
    },
    {
     "data": {
      "image/png": "[encoded data removed]",
      "text/plain": [
       "<Figure size 432x288 with 1 Axes>"
      ]
     },
     "metadata": {
      "needs_background": "light"
     },
     "output_type": "display_data"
    }
   ],
   "source": [
    "expenditure.loc[expenditure['Code'] == 'USA'].T.iloc[4:, 0].plot(kind = 'line')"
   ]
  },
  {
   "cell_type": "code",
   "execution_count": 137,
   "metadata": {},
   "outputs": [],
   "source": [
    "usa_money = expenditure.loc[expenditure['Code'] == 'USA'].iloc[:,4:].T"
   ]
  },
  {
   "cell_type": "code",
   "execution_count": 138,
   "metadata": {},
   "outputs": [],
   "source": [
    "usa_money.columns = ['USA']"
   ]
  },
  {
   "cell_type": "code",
   "execution_count": 143,
   "metadata": {},
   "outputs": [],
   "source": [
    "(usa_money/1e11).to_csv('USA_expend.csv')"
   ]
  },
  {
   "cell_type": "markdown",
   "metadata": {},
   "source": [
    "1. 1960–1975\tVietnam War\t<br>United States and South Vietnam vs. North Vietnam<br>\n",
    "2. 1961\tBay of Pigs Invasion\t<br>United States vs. Cuba<br>\n",
    "1. 1983\tGrenada\t<br>United States Intervention<br>\n",
    "1. 1989\tUS Invasion of Panama\t<br>United States vs. Panama<br>\n",
    "1. 1990–1991\tPersian Gulf War<br>\tUnited States and Coalition Forces vs. Iraq<br>\n",
    "1. 1995–1996\tIntervention in Bosnia and Herzegovina\t<br>United States as part of NATO acted peacekeepers in former Yugoslavia<br>\n",
    "1. 2001–present\tInvasion of Afghanistan<br>\tUnited States and Coalition Forces vs. the Taliban regime in Afghanistan to fight terrorism.<br>\n",
    "1. 2003–2011\tInvasion of Iraq<br> United States and Coalition Forces vs. Iraq<br>\n",
    "\n",
    "1. 2004–present\tWar in Northwest Pakistan<br>\tUnited States vs. Pakstan, mainly drone attacks<br>\n",
    "1. 2007–present\tSomalia and Northeastern Kenya<br>\tUnited States and Coalition forces vs. al-Shabaab militants<br>\n",
    "1. 2009–2016\tOperation Ocean Shield (Indian Ocean)<br>\tNATO allies vs. Somali pirates<br>\n",
    "1. 2011\tIntervention in Libya<br>\tUS and NATO allies vs. Libya<br>\n",
    "1. 2011–2017\tLord's Resistance Army<br>\tUS and allies against the Lord's Resistance Army in Uganda<br>\n",
    "1. 2014–2017\tUS-led Intervention in Iraq<br>\tUS and coalition forces against the Islamic State of Iraq and Syria<br>\n",
    "1. 2014–present\tUS-led intervention in Syria<br>\tUS and coalition forces against al-Qaeda, Isis, and Syria<br>\n",
    "1. 2015–present\tYemeni Civil War<br>\tSaudi-led coalition and US, France and Kingdom against the Houthi rebels, Supreme Political Council in Yemen and allies<br>\n",
    "1. 2015–present\tUS intervention in Libya<br>\tUS and Libya against ISIS<br>"
   ]
  },
  {
   "cell_type": "markdown",
   "metadata": {},
   "source": [
    "source<br>\n",
    "https://www.thoughtco.com/american-involvement-wars-colonial-times-present-4059761<br>\n",
    "https://www.nytimes.com/1990/01/30/us/the-1991-budget-armed-forces-cheney-would-cut-divisions-in-army-but-maintain-b-2.html"
   ]
  },
  {
   "cell_type": "markdown",
   "metadata": {},
   "source": [
    "# But War, War never changes"
   ]
  },
  {
   "cell_type": "code",
   "execution_count": 112,
   "metadata": {},
   "outputs": [
    {
     "data": {
      "text/html": [
       "<div>\n",
       "<style scoped>\n",
       "    .dataframe tbody tr th:only-of-type {\n",
       "        vertical-align: middle;\n",
       "    }\n",
       "\n",
       "    .dataframe tbody tr th {\n",
       "        vertical-align: top;\n",
       "    }\n",
       "\n",
       "    .dataframe thead th {\n",
       "        text-align: right;\n",
       "    }\n",
       "</style>\n",
       "<table border=\"1\" class=\"dataframe\">\n",
       "  <thead>\n",
       "    <tr style=\"text-align: right;\">\n",
       "      <th></th>\n",
       "      <th>2018</th>\n",
       "    </tr>\n",
       "    <tr>\n",
       "      <th>Name</th>\n",
       "      <th></th>\n",
       "    </tr>\n",
       "  </thead>\n",
       "  <tbody>\n",
       "    <tr>\n",
       "      <th>United States</th>\n",
       "      <td>6.490000e+11</td>\n",
       "    </tr>\n",
       "    <tr>\n",
       "      <th>China</th>\n",
       "      <td>2.500000e+11</td>\n",
       "    </tr>\n",
       "    <tr>\n",
       "      <th>Saudi Arabia</th>\n",
       "      <td>6.755467e+10</td>\n",
       "    </tr>\n",
       "    <tr>\n",
       "      <th>India</th>\n",
       "      <td>6.651029e+10</td>\n",
       "    </tr>\n",
       "    <tr>\n",
       "      <th>France</th>\n",
       "      <td>6.379968e+10</td>\n",
       "    </tr>\n",
       "    <tr>\n",
       "      <th>Russian Federation</th>\n",
       "      <td>6.138755e+10</td>\n",
       "    </tr>\n",
       "    <tr>\n",
       "      <th>United Kingdom</th>\n",
       "      <td>4.999719e+10</td>\n",
       "    </tr>\n",
       "    <tr>\n",
       "      <th>Germany</th>\n",
       "      <td>4.947063e+10</td>\n",
       "    </tr>\n",
       "    <tr>\n",
       "      <th>Japan</th>\n",
       "      <td>4.661795e+10</td>\n",
       "    </tr>\n",
       "    <tr>\n",
       "      <th>South Korea</th>\n",
       "      <td>4.306997e+10</td>\n",
       "    </tr>\n",
       "  </tbody>\n",
       "</table>\n",
       "</div>"
      ],
      "text/plain": [
       "                            2018\n",
       "Name                            \n",
       "United States       6.490000e+11\n",
       "China               2.500000e+11\n",
       "Saudi Arabia        6.755467e+10\n",
       "India               6.651029e+10\n",
       "France              6.379968e+10\n",
       "Russian Federation  6.138755e+10\n",
       "United Kingdom      4.999719e+10\n",
       "Germany             4.947063e+10\n",
       "Japan               4.661795e+10\n",
       "South Korea         4.306997e+10"
      ]
     },
     "execution_count": 112,
     "metadata": {},
     "output_type": "execute_result"
    }
   ],
   "source": [
    "top10.set_index('Name')"
   ]
  },
  {
   "cell_type": "markdown",
   "metadata": {},
   "source": [
    "Choropleth of sum of war expenditure, and zoom in on the top 10"
   ]
  },
  {
   "cell_type": "markdown",
   "metadata": {},
   "source": [
    "Choropleth Map"
   ]
  },
  {
   "cell_type": "code",
   "execution_count": 114,
   "metadata": {},
   "outputs": [
    {
     "data": {
      "text/plain": [
       "<matplotlib.axes._subplots.AxesSubplot at 0x1e78c5b5a20>"
      ]
     },
     "execution_count": 114,
     "metadata": {},
     "output_type": "execute_result"
    },
    {
     "data": {
      "image/png": "[encoded data removed]",
      "text/plain": [
       "<Figure size 432x288 with 1 Axes>"
      ]
     },
     "metadata": {
      "needs_background": "light"
     },
     "output_type": "display_data"
    }
   ],
   "source": [
    "top10.set_index('Name').plot(kind = 'barh')"
   ]
  },
  {
   "cell_type": "markdown",
   "metadata": {},
   "source": [
    "# Peace in our time"
   ]
  },
  {
   "cell_type": "markdown",
   "metadata": {},
   "source": [
    "World expenditure in GDP%"
   ]
  },
  {
   "cell_type": "code",
   "execution_count": 36,
   "metadata": {},
   "outputs": [],
   "source": [
    "exp_gdp_fp = 'data/expenditure_in_GDP.csv'"
   ]
  },
  {
   "cell_type": "code",
   "execution_count": 39,
   "metadata": {},
   "outputs": [],
   "source": [
    "gdp_expenditure = pd.read_csv(exp_gdp_fp)"
   ]
  },
  {
   "cell_type": "code",
   "execution_count": 40,
   "metadata": {},
   "outputs": [],
   "source": [
    "world_gdp_millitary = gdp_expenditure.loc[gdp_expenditure['Country Name'] == \"World\"].iloc[:, 4:].T\n",
    "world_gdp_millitary.columns = ['World']"
   ]
  },
  {
   "cell_type": "code",
   "execution_count": 41,
   "metadata": {},
   "outputs": [],
   "source": [
    "world_gdp_millitary.to_csv('to_plot/world_army_in_gdp_percent.csv')"
   ]
  },
  {
   "cell_type": "markdown",
   "metadata": {},
   "source": [
    "Deployed troops"
   ]
  },
  {
   "cell_type": "code",
   "execution_count": 42,
   "metadata": {},
   "outputs": [],
   "source": [
    "dep_unit_fp = 'data/total_units.csv'"
   ]
  },
  {
   "cell_type": "code",
   "execution_count": 44,
   "metadata": {},
   "outputs": [],
   "source": [
    "dep_unit_df = pd.read_csv(dep_unit_fp, skiprows = 4)"
   ]
  },
  {
   "cell_type": "code",
   "execution_count": 49,
   "metadata": {},
   "outputs": [
    {
     "data": {
      "text/plain": [
       "<matplotlib.axes._subplots.AxesSubplot at 0x1e789b80f98>"
      ]
     },
     "execution_count": 49,
     "metadata": {},
     "output_type": "execute_result"
    },
    {
     "data": {
      "image/png": "[encoded data removed]",
      "text/plain": [
       "<Figure size 432x288 with 1 Axes>"
      ]
     },
     "metadata": {
      "needs_background": "light"
     },
     "output_type": "display_data"
    }
   ],
   "source": [
    "dep_unit_df.iloc[:, 4:].sum().plot(kind = 'line')"
   ]
  },
  {
   "cell_type": "markdown",
   "metadata": {},
   "source": [
    "War Casualty"
   ]
  },
  {
   "cell_type": "code",
   "execution_count": 70,
   "metadata": {},
   "outputs": [],
   "source": [
    "death_fp = 'data/battle_deaths.csv'"
   ]
  },
  {
   "cell_type": "code",
   "execution_count": 74,
   "metadata": {},
   "outputs": [],
   "source": [
    "death_df = pd.read_csv(death_fp).drop('Code', axis = 1)"
   ]
  },
  {
   "cell_type": "code",
   "execution_count": 76,
   "metadata": {},
   "outputs": [],
   "source": [
    "death_df.to_csv('death.csv', index = False)"
   ]
  },
  {
   "cell_type": "code",
   "execution_count": 78,
   "metadata": {},
   "outputs": [
    {
     "data": {
      "text/html": [
       "<div>\n",
       "<style scoped>\n",
       "    .dataframe tbody tr th:only-of-type {\n",
       "        vertical-align: middle;\n",
       "    }\n",
       "\n",
       "    .dataframe tbody tr th {\n",
       "        vertical-align: top;\n",
       "    }\n",
       "\n",
       "    .dataframe thead th {\n",
       "        text-align: right;\n",
       "    }\n",
       "</style>\n",
       "<table border=\"1\" class=\"dataframe\">\n",
       "  <thead>\n",
       "    <tr style=\"text-align: right;\">\n",
       "      <th></th>\n",
       "      <th>Entity</th>\n",
       "      <th>Year</th>\n",
       "      <th>Battle-related deaths</th>\n",
       "    </tr>\n",
       "  </thead>\n",
       "  <tbody>\n",
       "    <tr>\n",
       "      <th>0</th>\n",
       "      <td>Africa (inc. North Africa)</td>\n",
       "      <td>1946</td>\n",
       "      <td>0.0</td>\n",
       "    </tr>\n",
       "    <tr>\n",
       "      <th>1</th>\n",
       "      <td>Africa (inc. North Africa)</td>\n",
       "      <td>1947</td>\n",
       "      <td>0.0</td>\n",
       "    </tr>\n",
       "    <tr>\n",
       "      <th>2</th>\n",
       "      <td>Africa (inc. North Africa)</td>\n",
       "      <td>1948</td>\n",
       "      <td>0.0</td>\n",
       "    </tr>\n",
       "    <tr>\n",
       "      <th>3</th>\n",
       "      <td>Africa (inc. North Africa)</td>\n",
       "      <td>1949</td>\n",
       "      <td>0.0</td>\n",
       "    </tr>\n",
       "    <tr>\n",
       "      <th>4</th>\n",
       "      <td>Africa (inc. North Africa)</td>\n",
       "      <td>1950</td>\n",
       "      <td>0.0</td>\n",
       "    </tr>\n",
       "  </tbody>\n",
       "</table>\n",
       "</div>"
      ],
      "text/plain": [
       "                       Entity  Year  Battle-related deaths\n",
       "0  Africa (inc. North Africa)  1946                    0.0\n",
       "1  Africa (inc. North Africa)  1947                    0.0\n",
       "2  Africa (inc. North Africa)  1948                    0.0\n",
       "3  Africa (inc. North Africa)  1949                    0.0\n",
       "4  Africa (inc. North Africa)  1950                    0.0"
      ]
     },
     "execution_count": 78,
     "metadata": {},
     "output_type": "execute_result"
    }
   ],
   "source": [
    "death_df.head()"
   ]
  },
  {
   "cell_type": "code",
   "execution_count": 81,
   "metadata": {},
   "outputs": [],
   "source": [
    "pd.pivot_table(data=death_df, index='Year', columns=\"Entity\", values=\"Battle-related deaths\").to_csv('to_plot/death_pivot.csv')"
   ]
  },
  {
   "cell_type": "markdown",
   "metadata": {},
   "source": [
    "War expenditure in USD"
   ]
  },
  {
   "cell_type": "code",
   "execution_count": 82,
   "metadata": {},
   "outputs": [],
   "source": [
    "usd_exp_fp = 'data/expenditure_in_USD.csv'"
   ]
  },
  {
   "cell_type": "code",
   "execution_count": 83,
   "metadata": {},
   "outputs": [],
   "source": [
    "usd_exp_df = pd.read_csv(usd_exp_fp, skiprows = 4)"
   ]
  },
  {
   "cell_type": "code",
   "execution_count": 126,
   "metadata": {},
   "outputs": [],
   "source": [
    "world_exp_usd = usd_exp_df.loc[(usd_exp_df['Country Name'] == 'World') | (usd_exp_df['Country Name'] == 'United States')].iloc[:, 4:-2].T\n",
    "world_exp_usd.columns = ['USA', 'World']\n",
    "(world_exp_usd/1e11).iloc[20:].to_csv('to_plot/world_exp_usd.csv')"
   ]
  },
  {
   "cell_type": "code",
   "execution_count": 129,
   "metadata": {},
   "outputs": [],
   "source": [
    "(world_exp_usd/1e11).iloc[20:].to_csv('to_plot/world_exp_usd.csv')"
   ]
  },
  {
   "cell_type": "code",
   "execution_count": 130,
   "metadata": {},
   "outputs": [
    {
     "data": {
      "text/html": [
       "<div>\n",
       "<style scoped>\n",
       "    .dataframe tbody tr th:only-of-type {\n",
       "        vertical-align: middle;\n",
       "    }\n",
       "\n",
       "    .dataframe tbody tr th {\n",
       "        vertical-align: top;\n",
       "    }\n",
       "\n",
       "    .dataframe thead th {\n",
       "        text-align: right;\n",
       "    }\n",
       "</style>\n",
       "<table border=\"1\" class=\"dataframe\">\n",
       "  <thead>\n",
       "    <tr style=\"text-align: right;\">\n",
       "      <th></th>\n",
       "      <th>USA</th>\n",
       "      <th>World</th>\n",
       "    </tr>\n",
       "  </thead>\n",
       "  <tbody>\n",
       "    <tr>\n",
       "      <th>1960</th>\n",
       "      <td>4.538000e+10</td>\n",
       "      <td>NaN</td>\n",
       "    </tr>\n",
       "    <tr>\n",
       "      <th>1961</th>\n",
       "      <td>4.780800e+10</td>\n",
       "      <td>NaN</td>\n",
       "    </tr>\n",
       "    <tr>\n",
       "      <th>1962</th>\n",
       "      <td>5.238100e+10</td>\n",
       "      <td>NaN</td>\n",
       "    </tr>\n",
       "    <tr>\n",
       "      <th>1963</th>\n",
       "      <td>5.229500e+10</td>\n",
       "      <td>NaN</td>\n",
       "    </tr>\n",
       "    <tr>\n",
       "      <th>1964</th>\n",
       "      <td>5.121300e+10</td>\n",
       "      <td>NaN</td>\n",
       "    </tr>\n",
       "    <tr>\n",
       "      <th>1965</th>\n",
       "      <td>5.182700e+10</td>\n",
       "      <td>NaN</td>\n",
       "    </tr>\n",
       "    <tr>\n",
       "      <th>1966</th>\n",
       "      <td>6.357200e+10</td>\n",
       "      <td>NaN</td>\n",
       "    </tr>\n",
       "    <tr>\n",
       "      <th>1967</th>\n",
       "      <td>7.544800e+10</td>\n",
       "      <td>NaN</td>\n",
       "    </tr>\n",
       "    <tr>\n",
       "      <th>1968</th>\n",
       "      <td>8.073200e+10</td>\n",
       "      <td>NaN</td>\n",
       "    </tr>\n",
       "    <tr>\n",
       "      <th>1969</th>\n",
       "      <td>8.144300e+10</td>\n",
       "      <td>NaN</td>\n",
       "    </tr>\n",
       "    <tr>\n",
       "      <th>1970</th>\n",
       "      <td>7.984600e+10</td>\n",
       "      <td>NaN</td>\n",
       "    </tr>\n",
       "    <tr>\n",
       "      <th>1971</th>\n",
       "      <td>7.486200e+10</td>\n",
       "      <td>NaN</td>\n",
       "    </tr>\n",
       "    <tr>\n",
       "      <th>1972</th>\n",
       "      <td>7.763900e+10</td>\n",
       "      <td>NaN</td>\n",
       "    </tr>\n",
       "    <tr>\n",
       "      <th>1973</th>\n",
       "      <td>7.835800e+10</td>\n",
       "      <td>NaN</td>\n",
       "    </tr>\n",
       "    <tr>\n",
       "      <th>1974</th>\n",
       "      <td>8.590600e+10</td>\n",
       "      <td>NaN</td>\n",
       "    </tr>\n",
       "    <tr>\n",
       "      <th>1975</th>\n",
       "      <td>8.840000e+10</td>\n",
       "      <td>NaN</td>\n",
       "    </tr>\n",
       "    <tr>\n",
       "      <th>1976</th>\n",
       "      <td>9.101300e+10</td>\n",
       "      <td>NaN</td>\n",
       "    </tr>\n",
       "    <tr>\n",
       "      <th>1977</th>\n",
       "      <td>1.009250e+11</td>\n",
       "      <td>NaN</td>\n",
       "    </tr>\n",
       "    <tr>\n",
       "      <th>1978</th>\n",
       "      <td>1.092470e+11</td>\n",
       "      <td>NaN</td>\n",
       "    </tr>\n",
       "    <tr>\n",
       "      <th>1979</th>\n",
       "      <td>1.222790e+11</td>\n",
       "      <td>NaN</td>\n",
       "    </tr>\n",
       "    <tr>\n",
       "      <th>1980</th>\n",
       "      <td>1.381910e+11</td>\n",
       "      <td>3.636232e+11</td>\n",
       "    </tr>\n",
       "    <tr>\n",
       "      <th>1981</th>\n",
       "      <td>1.698880e+11</td>\n",
       "      <td>3.997292e+11</td>\n",
       "    </tr>\n",
       "    <tr>\n",
       "      <th>1982</th>\n",
       "      <td>2.136260e+11</td>\n",
       "      <td>NaN</td>\n",
       "    </tr>\n",
       "    <tr>\n",
       "      <th>1983</th>\n",
       "      <td>2.136260e+11</td>\n",
       "      <td>NaN</td>\n",
       "    </tr>\n",
       "    <tr>\n",
       "      <th>1984</th>\n",
       "      <td>2.314590e+11</td>\n",
       "      <td>4.479183e+11</td>\n",
       "    </tr>\n",
       "    <tr>\n",
       "      <th>1985</th>\n",
       "      <td>2.581650e+11</td>\n",
       "      <td>4.744586e+11</td>\n",
       "    </tr>\n",
       "    <tr>\n",
       "      <th>1986</th>\n",
       "      <td>2.811050e+11</td>\n",
       "      <td>5.202708e+11</td>\n",
       "    </tr>\n",
       "    <tr>\n",
       "      <th>1987</th>\n",
       "      <td>2.881570e+11</td>\n",
       "      <td>5.882321e+11</td>\n",
       "    </tr>\n",
       "    <tr>\n",
       "      <th>1988</th>\n",
       "      <td>2.930930e+11</td>\n",
       "      <td>6.267520e+11</td>\n",
       "    </tr>\n",
       "    <tr>\n",
       "      <th>1989</th>\n",
       "      <td>3.040850e+11</td>\n",
       "      <td>6.452807e+11</td>\n",
       "    </tr>\n",
       "    <tr>\n",
       "      <th>1990</th>\n",
       "      <td>3.061700e+11</td>\n",
       "      <td>6.998719e+11</td>\n",
       "    </tr>\n",
       "    <tr>\n",
       "      <th>1991</th>\n",
       "      <td>2.802920e+11</td>\n",
       "      <td>6.848893e+11</td>\n",
       "    </tr>\n",
       "    <tr>\n",
       "      <th>1992</th>\n",
       "      <td>3.051410e+11</td>\n",
       "      <td>7.165729e+11</td>\n",
       "    </tr>\n",
       "    <tr>\n",
       "      <th>1993</th>\n",
       "      <td>2.976370e+11</td>\n",
       "      <td>6.860189e+11</td>\n",
       "    </tr>\n",
       "    <tr>\n",
       "      <th>1994</th>\n",
       "      <td>2.880590e+11</td>\n",
       "      <td>6.946242e+11</td>\n",
       "    </tr>\n",
       "    <tr>\n",
       "      <th>1995</th>\n",
       "      <td>2.788560e+11</td>\n",
       "      <td>7.172774e+11</td>\n",
       "    </tr>\n",
       "    <tr>\n",
       "      <th>1996</th>\n",
       "      <td>2.714170e+11</td>\n",
       "      <td>7.156371e+11</td>\n",
       "    </tr>\n",
       "    <tr>\n",
       "      <th>1997</th>\n",
       "      <td>2.763250e+11</td>\n",
       "      <td>7.144284e+11</td>\n",
       "    </tr>\n",
       "    <tr>\n",
       "      <th>1998</th>\n",
       "      <td>2.742780e+11</td>\n",
       "      <td>6.963654e+11</td>\n",
       "    </tr>\n",
       "    <tr>\n",
       "      <th>1999</th>\n",
       "      <td>2.809690e+11</td>\n",
       "      <td>7.093168e+11</td>\n",
       "    </tr>\n",
       "    <tr>\n",
       "      <th>2000</th>\n",
       "      <td>3.016970e+11</td>\n",
       "      <td>7.295231e+11</td>\n",
       "    </tr>\n",
       "    <tr>\n",
       "      <th>2001</th>\n",
       "      <td>3.127430e+11</td>\n",
       "      <td>7.418448e+11</td>\n",
       "    </tr>\n",
       "    <tr>\n",
       "      <th>2002</th>\n",
       "      <td>3.567200e+11</td>\n",
       "      <td>8.015000e+11</td>\n",
       "    </tr>\n",
       "    <tr>\n",
       "      <th>2003</th>\n",
       "      <td>4.152230e+11</td>\n",
       "      <td>9.365712e+11</td>\n",
       "    </tr>\n",
       "    <tr>\n",
       "      <th>2004</th>\n",
       "      <td>4.646760e+11</td>\n",
       "      <td>1.057668e+12</td>\n",
       "    </tr>\n",
       "    <tr>\n",
       "      <th>2005</th>\n",
       "      <td>5.033530e+11</td>\n",
       "      <td>1.145827e+12</td>\n",
       "    </tr>\n",
       "    <tr>\n",
       "      <th>2006</th>\n",
       "      <td>5.276600e+11</td>\n",
       "      <td>1.188063e+12</td>\n",
       "    </tr>\n",
       "    <tr>\n",
       "      <th>2007</th>\n",
       "      <td>5.569610e+11</td>\n",
       "      <td>1.318785e+12</td>\n",
       "    </tr>\n",
       "    <tr>\n",
       "      <th>2008</th>\n",
       "      <td>6.211310e+11</td>\n",
       "      <td>1.490636e+12</td>\n",
       "    </tr>\n",
       "    <tr>\n",
       "      <th>2009</th>\n",
       "      <td>6.685670e+11</td>\n",
       "      <td>1.546446e+12</td>\n",
       "    </tr>\n",
       "    <tr>\n",
       "      <th>2010</th>\n",
       "      <td>6.981800e+11</td>\n",
       "      <td>1.629169e+12</td>\n",
       "    </tr>\n",
       "    <tr>\n",
       "      <th>2011</th>\n",
       "      <td>7.113380e+11</td>\n",
       "      <td>1.733074e+12</td>\n",
       "    </tr>\n",
       "    <tr>\n",
       "      <th>2012</th>\n",
       "      <td>6.847800e+11</td>\n",
       "      <td>1.739015e+12</td>\n",
       "    </tr>\n",
       "    <tr>\n",
       "      <th>2013</th>\n",
       "      <td>6.397040e+11</td>\n",
       "      <td>1.741190e+12</td>\n",
       "    </tr>\n",
       "    <tr>\n",
       "      <th>2014</th>\n",
       "      <td>6.099140e+11</td>\n",
       "      <td>1.741951e+12</td>\n",
       "    </tr>\n",
       "    <tr>\n",
       "      <th>2015</th>\n",
       "      <td>5.961046e+11</td>\n",
       "      <td>1.640536e+12</td>\n",
       "    </tr>\n",
       "    <tr>\n",
       "      <th>2016</th>\n",
       "      <td>6.001064e+11</td>\n",
       "      <td>1.631218e+12</td>\n",
       "    </tr>\n",
       "    <tr>\n",
       "      <th>2017</th>\n",
       "      <td>6.058029e+11</td>\n",
       "      <td>1.695784e+12</td>\n",
       "    </tr>\n",
       "    <tr>\n",
       "      <th>2018</th>\n",
       "      <td>6.487983e+11</td>\n",
       "      <td>1.782351e+12</td>\n",
       "    </tr>\n",
       "  </tbody>\n",
       "</table>\n",
       "</div>"
      ],
      "text/plain": [
       "               USA         World\n",
       "1960  4.538000e+10           NaN\n",
       "1961  4.780800e+10           NaN\n",
       "1962  5.238100e+10           NaN\n",
       "1963  5.229500e+10           NaN\n",
       "1964  5.121300e+10           NaN\n",
       "1965  5.182700e+10           NaN\n",
       "1966  6.357200e+10           NaN\n",
       "1967  7.544800e+10           NaN\n",
       "1968  8.073200e+10           NaN\n",
       "1969  8.144300e+10           NaN\n",
       "1970  7.984600e+10           NaN\n",
       "1971  7.486200e+10           NaN\n",
       "1972  7.763900e+10           NaN\n",
       "1973  7.835800e+10           NaN\n",
       "1974  8.590600e+10           NaN\n",
       "1975  8.840000e+10           NaN\n",
       "1976  9.101300e+10           NaN\n",
       "1977  1.009250e+11           NaN\n",
       "1978  1.092470e+11           NaN\n",
       "1979  1.222790e+11           NaN\n",
       "1980  1.381910e+11  3.636232e+11\n",
       "1981  1.698880e+11  3.997292e+11\n",
       "1982  2.136260e+11           NaN\n",
       "1983  2.136260e+11           NaN\n",
       "1984  2.314590e+11  4.479183e+11\n",
       "1985  2.581650e+11  4.744586e+11\n",
       "1986  2.811050e+11  5.202708e+11\n",
       "1987  2.881570e+11  5.882321e+11\n",
       "1988  2.930930e+11  6.267520e+11\n",
       "1989  3.040850e+11  6.452807e+11\n",
       "1990  3.061700e+11  6.998719e+11\n",
       "1991  2.802920e+11  6.848893e+11\n",
       "1992  3.051410e+11  7.165729e+11\n",
       "1993  2.976370e+11  6.860189e+11\n",
       "1994  2.880590e+11  6.946242e+11\n",
       "1995  2.788560e+11  7.172774e+11\n",
       "1996  2.714170e+11  7.156371e+11\n",
       "1997  2.763250e+11  7.144284e+11\n",
       "1998  2.742780e+11  6.963654e+11\n",
       "1999  2.809690e+11  7.093168e+11\n",
       "2000  3.016970e+11  7.295231e+11\n",
       "2001  3.127430e+11  7.418448e+11\n",
       "2002  3.567200e+11  8.015000e+11\n",
       "2003  4.152230e+11  9.365712e+11\n",
       "2004  4.646760e+11  1.057668e+12\n",
       "2005  5.033530e+11  1.145827e+12\n",
       "2006  5.276600e+11  1.188063e+12\n",
       "2007  5.569610e+11  1.318785e+12\n",
       "2008  6.211310e+11  1.490636e+12\n",
       "2009  6.685670e+11  1.546446e+12\n",
       "2010  6.981800e+11  1.629169e+12\n",
       "2011  7.113380e+11  1.733074e+12\n",
       "2012  6.847800e+11  1.739015e+12\n",
       "2013  6.397040e+11  1.741190e+12\n",
       "2014  6.099140e+11  1.741951e+12\n",
       "2015  5.961046e+11  1.640536e+12\n",
       "2016  6.001064e+11  1.631218e+12\n",
       "2017  6.058029e+11  1.695784e+12\n",
       "2018  6.487983e+11  1.782351e+12"
      ]
     },
     "execution_count": 130,
     "metadata": {},
     "output_type": "execute_result"
    }
   ],
   "source": [
    "world_exp_usd"
   ]
  },
  {
   "cell_type": "markdown",
   "metadata": {},
   "source": [
    "-------------"
   ]
  },
  {
   "cell_type": "code",
   "execution_count": 49,
   "metadata": {},
   "outputs": [],
   "source": [
    "gdp_fp = 'data/country_gdp_current.csv'"
   ]
  },
  {
   "cell_type": "code",
   "execution_count": 50,
   "metadata": {},
   "outputs": [],
   "source": [
    "gdp_df = pd.read_csv(gdp_fp, skiprows = 4)"
   ]
  },
  {
   "cell_type": "code",
   "execution_count": 51,
   "metadata": {},
   "outputs": [],
   "source": [
    "selected_countries = gdp_df.loc[\n",
    "    gdp_df['Country Name']\n",
    "    .apply(lambda x: x in ['Afghanistan', 'Yemen, Rep.', 'Libya', 'Syrian Arab Republic', 'Pakistan'\n",
    "                          ])]"
   ]
  },
  {
   "cell_type": "code",
   "execution_count": 52,
   "metadata": {},
   "outputs": [],
   "source": [
    "gdp_to_save_uncleaned = selected_countries.drop(['Country Code', 'Indicator Name', 'Indicator Code'], axis = 1).set_index('Country Name').T.iloc[:-2]"
   ]
  },
  {
   "cell_type": "code",
   "execution_count": 53,
   "metadata": {},
   "outputs": [],
   "source": [
    "gdp_to_save_uncleaned.index = [int(i) for i in gdp_to_save_uncleaned.index]"
   ]
  },
  {
   "cell_type": "code",
   "execution_count": 59,
   "metadata": {},
   "outputs": [],
   "source": [
    "(gdp_to_save_uncleaned.loc[2000:]/1e9).to_csv('to_plot/war_costs.csv')"
   ]
  },
  {
   "cell_type": "code",
   "execution_count": null,
   "metadata": {},
   "outputs": [],
   "source": []
  }
 ],
 "metadata": {
  "kernelspec": {
   "display_name": "Python 3",
   "language": "python",
   "name": "python3"
  },
  "language_info": {
   "codemirror_mode": {
    "name": "ipython",
    "version": 3
   },
   "file_extension": ".py",
   "mimetype": "text/x-python",
   "name": "python",
   "nbconvert_exporter": "python",
   "pygments_lexer": "ipython3",
   "version": "3.7.2"
  }
 },
 "nbformat": 4,
 "nbformat_minor": 2
}
