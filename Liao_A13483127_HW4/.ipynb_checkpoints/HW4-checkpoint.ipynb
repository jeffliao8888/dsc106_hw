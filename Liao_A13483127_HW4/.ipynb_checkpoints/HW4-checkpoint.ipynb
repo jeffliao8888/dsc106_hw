{
 "cells": [
  {
   "cell_type": "markdown",
   "metadata": {},
   "source": [
    "# HW4 : A visit to the movie zoo!\n",
    "\n",
    "![](https://vignette.wikia.nocookie.net/bojackhorseman/images/f/f2/HSACWDTK%3FDTKT%3FLFO%21%21.png/revision/latest?cb=20150720050503)"
   ]
  },
  {
   "cell_type": "markdown",
   "metadata": {},
   "source": [
    "## Task\n",
    "In this homework, your task is to visualize THREE non-typical charts on anything related to your favorite **movie star!**\n",
    "This means you CANNOT use the Big 4 chart types or their close variants (i.e. Pie, Bar, Line and Scatter, Area, etc.)\n",
    "\n",
    "You are free to use any other chart type whether or not they were covered in class!\n",
    "The lecture on Visit To The Zoo is a good place to start to get ideas on what kinds of charts exist.\n",
    "\n",
    "For the data, you are free to use any data source you deem fit.\n",
    "For charting, we will NOT be constraining the technology you use. \n",
    "You are free to produce the charts in any way you would like.\n",
    "\n",
    "You will be judged on\n",
    "* Creativity\n",
    "* Presentation Quality\n",
    "* Data Quality (Did your visualization reveal something interesting?)\n",
    "\n",
    "For extra credit, you can make a fully interactive visualization."
   ]
  },
  {
   "cell_type": "markdown",
   "metadata": {},
   "source": [
    "## Ideas for Data Collection\n",
    "\n",
    "Here, we show an example of how to collect data about Arnold Schwarzenegger!\n",
    "Do note that this is just an example of the kind of data you can collect.\n",
    "You are **NOT** constrained\n",
    "* To the same movie star (you can pick your own!)\n",
    "* To the same *kind* of data\n",
    "* To the same data sources\n",
    "* or to anything else!\n",
    "\n",
    "This assignment gives you the power to do what you like!"
   ]
  },
  {
   "cell_type": "code",
   "execution_count": 171,
   "metadata": {
    "scrolled": true
   },
   "outputs": [],
   "source": [
    "# %pip install imdbpie\n",
    "from imdbpie import ImdbFacade\n",
    "from IPython.core.display import display, HTML\n",
    "from bs4 import BeautifulSoup\n",
    "import urllib.request\n",
    "import re\n",
    "import requests\n",
    "import pandas as pd\n",
    "import pycountry\n",
    "import pycountry_convert as pc\n",
    "from selenium import webdriver"
   ]
  },
  {
   "cell_type": "markdown",
   "metadata": {},
   "source": [
    "#### Get data for actor"
   ]
  },
  {
   "cell_type": "code",
   "execution_count": null,
   "metadata": {},
   "outputs": [],
   "source": [
    "# Get an instance of IMDb class\n",
    "imdb = ImdbFacade()\n",
    "\n",
    "# Search for actor\n",
    "people = imdb.search_for_name('robert downey jr')\n",
    "print(people)"
   ]
  },
  {
   "cell_type": "code",
   "execution_count": null,
   "metadata": {},
   "outputs": [],
   "source": [
    "# Fetch information about him\n",
    "robert = imdb.get_name(people[0].imdb_id)\n",
    "\n",
    "# What information do I have about him?\n",
    "print('\\n'.join([x for x in dir(arnold) if not x.startswith('__')]))"
   ]
  },
  {
   "cell_type": "code",
   "execution_count": null,
   "metadata": {},
   "outputs": [],
   "source": [
    "films = robert.filmography\n",
    "# [imdb.get_title(x).title for x in films]"
   ]
  },
  {
   "cell_type": "code",
   "execution_count": null,
   "metadata": {},
   "outputs": [],
   "source": [
    "# How many movies does he have?\n",
    "print(len(robert.filmography))"
   ]
  },
  {
   "cell_type": "code",
   "execution_count": null,
   "metadata": {},
   "outputs": [],
   "source": [
    "# Let's fetch some more information about a movie\n",
    "movie = imdb.get_title(films[2])"
   ]
  },
  {
   "cell_type": "code",
   "execution_count": null,
   "metadata": {},
   "outputs": [],
   "source": [
    "# What information can I get about this movie?\n",
    "print('\\n'.join([x for x in dir(movie) if not x.startswith('__')]))"
   ]
  },
  {
   "cell_type": "code",
   "execution_count": null,
   "metadata": {
    "scrolled": true
   },
   "outputs": [],
   "source": [
    "movie.title"
   ]
  },
  {
   "cell_type": "code",
   "execution_count": null,
   "metadata": {},
   "outputs": [],
   "source": [
    "print(movie.writers)"
   ]
  },
  {
   "cell_type": "code",
   "execution_count": null,
   "metadata": {},
   "outputs": [],
   "source": [
    "print(movie.imdb_id)"
   ]
  },
  {
   "cell_type": "code",
   "execution_count": null,
   "metadata": {
    "scrolled": true
   },
   "outputs": [],
   "source": [
    "html = \"\"\"\n",
    "    <div style=\"background-color:#FFDDDD\">\n",
    "    <h2> Warning! </h2>\n",
    "    <p> This code below is meant to be an example of what you can do. <br>\n",
    "        It is not guaranteed to work always, and will need to be tweaked!\n",
    "    </p>\n",
    "    </div>\n",
    "\"\"\"\n",
    "display(HTML(html))"
   ]
  },
  {
   "cell_type": "markdown",
   "metadata": {},
   "source": [
    "#### Box office numbers"
   ]
  },
  {
   "cell_type": "code",
   "execution_count": null,
   "metadata": {},
   "outputs": [],
   "source": [
    "# Let's experiment with Terminator\n",
    "imdb_id = 'tt0088247'\n",
    "\n",
    "# Fetch the box office numbers\n",
    "base = 'https://www.boxofficemojo.com'\n",
    "url = base + '/title/' + imdb_id\n",
    "source = urllib.request.urlopen(url).read()\n",
    "soup = BeautifulSoup(source,'lxml')\n",
    "\n",
    "table = soup('th', text=re.compile(r'Release Group'))[0].parent.parent\n",
    "group = table.findAll('tr', recursive=False)[1].find('a').get('href')\n",
    "url = base + group\n",
    "\n",
    "# Get total earnings domestic and international\n",
    "source = urllib.request.urlopen(url).read()\n",
    "soup = BeautifulSoup(source,'lxml')\n",
    "earnings = soup('h2', text=re.compile(r'Rollout'))[0].parent.parent.findAll('div')\n",
    "domestic = earnings[1].find('span', {'class': 'money'}).get_text()\n",
    "domestic_url = earnings[1].find('a').get('href')\n",
    "international = earnings[2].find('span', {'class': 'money'}).get_text()\n",
    "\n",
    "# Get weekly domestic earnings\n",
    "url = base + domestic_url\n",
    "url = url[:url.rfind('/')] + '/weekly/'\n",
    "source = urllib.request.urlopen(url).read()\n",
    "soup = BeautifulSoup(source,'lxml')\n",
    "table = soup.find('div', {'class':'a-section imdb-scroll-table-inner'}).findAll('tr')\n",
    "weekly = []\n",
    "for tr in table[1:]:\n",
    "    date = tr.findAll('td')[0].get_text()\n",
    "    earning = tr.findAll('td')[2].get_text()\n",
    "    weekly.append((date, earning))\n",
    "\n",
    "# Print the values we've just got!\n",
    "print(\"Total Domestic Earnings: %s\" % domestic)\n",
    "print(\"Total International Earnings: %s\" % international)\n",
    "print(\"Weekly Domestic Earnings:\")\n",
    "for date, earning in weekly:\n",
    "    print(\"\\t%s \\t: %s\" % (date, earning))"
   ]
  },
  {
   "cell_type": "markdown",
   "metadata": {},
   "source": [
    "## Other resources!"
   ]
  },
  {
   "cell_type": "markdown",
   "metadata": {},
   "source": [
    "This assignment doesn't have a restriction on where you can look for data.\n",
    "Further, we don't mind how you collect the data, or what data you collect.\n",
    "\n",
    "Here are some additional resources for this example, and you can customize it for your own!\n",
    "* Arnold Schwarzenegger Kill Count: https://www.youtube.com/watch?v=OE6jpTaOYMU\n",
    "* Arnold Schwarzenegger Top Quotes: https://www.youtube.com/watch?v=pDxn0Xfqkgw\n",
    "\n",
    "You could think about the IMDB network as a graph, with different actors connected through movies.\n",
    "\n",
    "Some other useful libraries/ databases:\n",
    "* IMDBPy\n",
    "* http://www.omdbapi.com/"
   ]
  },
  {
   "cell_type": "markdown",
   "metadata": {},
   "source": [
    "words in one movie (word cloud)\n",
    "movies released by date (calendar)\n"
   ]
  },
  {
   "cell_type": "code",
   "execution_count": null,
   "metadata": {},
   "outputs": [],
   "source": []
  },
  {
   "cell_type": "code",
   "execution_count": null,
   "metadata": {},
   "outputs": [],
   "source": [
    "# get quotes from https://www.brainyquote.com/authors/robert-downey-jr-quotes\n",
    "url = 'https://www.brainyquote.com/authors/robert-downey-jr-quotes'\n",
    "# resp = request.get(url)\n",
    "resp = requests.get(url)\n",
    "if resp.ok:\n",
    "    text = resp.text\n",
    "    soup = BeautifulSoup(text)"
   ]
  },
  {
   "cell_type": "code",
   "execution_count": null,
   "metadata": {},
   "outputs": [],
   "source": [
    "quoteList = soup.find('div', attrs={'id':'quotesList', 'class':'new-msnry-grid bqcpx'}).find_all('a')"
   ]
  },
  {
   "cell_type": "code",
   "execution_count": null,
   "metadata": {},
   "outputs": [],
   "source": [
    "quotes = [i.text for i in quoteList]\n",
    "quotes = [i for i in quotes if len(i)>0 and i[:1]!='\\n']\n",
    "pd.DataFrame({'quotes': quotes}).to_csv('quotes.csv')"
   ]
  },
  {
   "cell_type": "code",
   "execution_count": null,
   "metadata": {},
   "outputs": [],
   "source": []
  },
  {
   "cell_type": "code",
   "execution_count": null,
   "metadata": {},
   "outputs": [],
   "source": [
    "marvel_url = 'https://en.wikipedia.org/wiki/List_of_Marvel_Cinematic_Universe_films'\n",
    "marvel = requests.get(marvel_url)\n",
    "if marvel.ok:\n",
    "    content = marvel.content\n",
    "    text = marvel.text\n",
    "    soup = BeautifulSoup(text)"
   ]
  },
  {
   "cell_type": "code",
   "execution_count": null,
   "metadata": {},
   "outputs": [],
   "source": [
    "movies = [x.text[:-1] for x in soup.find('table', {'class':'wikitable plainrowheaders'}).find_all('th')]"
   ]
  },
  {
   "cell_type": "code",
   "execution_count": null,
   "metadata": {},
   "outputs": [],
   "source": [
    "movies = [x for x in movies[6:] if('Phase' not in x)]"
   ]
  },
  {
   "cell_type": "code",
   "execution_count": null,
   "metadata": {},
   "outputs": [],
   "source": [
    "movies[5] = 'The Avengers'\n",
    "movies"
   ]
  },
  {
   "cell_type": "code",
   "execution_count": null,
   "metadata": {},
   "outputs": [],
   "source": [
    "# films\n",
    "url = 'https://pro.imdb.com/name/nm0000375/?ref_=instant_nm_1&q=robert%20downet'\n",
    "resp = requests.get(url)\n",
    "if resp.ok:\n",
    "    content = resp.content\n",
    "    text = resp.text\n",
    "    soup = BeautifulSoup(text)"
   ]
  },
  {
   "cell_type": "code",
   "execution_count": null,
   "metadata": {},
   "outputs": [],
   "source": [
    "# films year and gross\n",
    "films = pd.read_html(content)[5]\n",
    "# films = films[films.Notes != 'Uncredited']#films.iloc[:, :2]\n",
    "pattern = r'^.+\\((\\d{4})\\)'\n",
    "year = r'\\(\\d{4}\\)'\n",
    "\n",
    "titles = films.iloc[:,0]\n",
    "title_year = titles.apply(lambda x: re.match(pattern, x)[0])\n",
    "# title_year\n",
    "titles = title_year.apply(lambda x: re.split(year, x)[0][:-1])\n",
    "years = title_year.apply(lambda x: int(re.findall('\\d{4}', x)[0]))"
   ]
  },
  {
   "cell_type": "code",
   "execution_count": null,
   "metadata": {},
   "outputs": [],
   "source": [
    "films['title'] = titles\n",
    "films['year'] = years"
   ]
  },
  {
   "cell_type": "code",
   "execution_count": null,
   "metadata": {
    "scrolled": true
   },
   "outputs": [],
   "source": [
    "films = films[films['Gross (Worldwide)'].notnull()]\n",
    "films"
   ]
  },
  {
   "cell_type": "code",
   "execution_count": null,
   "metadata": {},
   "outputs": [],
   "source": [
    "def currency(amount):\n",
    "    billion = 10**9\n",
    "    million  = 10**6\n",
    "    amount = amount[1:]\n",
    "    if (amount[-1] == 'B'):\n",
    "        return int(float(amount[:-1])*billion)\n",
    "    elif (amount[-2:] == 'MM'):\n",
    "        return int(float(amount[:-2])*million)"
   ]
  },
  {
   "cell_type": "code",
   "execution_count": null,
   "metadata": {},
   "outputs": [],
   "source": [
    "films['gross'] = films['Gross (Worldwide)'].apply(lambda x: currency(x))"
   ]
  },
  {
   "cell_type": "code",
   "execution_count": null,
   "metadata": {},
   "outputs": [],
   "source": [
    "films.head(15)"
   ]
  },
  {
   "cell_type": "code",
   "execution_count": null,
   "metadata": {},
   "outputs": [],
   "source": [
    "films['is_marvel'] = [1 if(x in movies) else 0 for x in films.title.values]"
   ]
  },
  {
   "cell_type": "code",
   "execution_count": null,
   "metadata": {},
   "outputs": [],
   "source": [
    "films.head(30)"
   ]
  },
  {
   "cell_type": "code",
   "execution_count": null,
   "metadata": {},
   "outputs": [],
   "source": [
    "films[['year', 'title', 'gross','is_marvel']].to_csv('movie_gross.csv')"
   ]
  },
  {
   "cell_type": "code",
   "execution_count": null,
   "metadata": {},
   "outputs": [],
   "source": []
  },
  {
   "cell_type": "code",
   "execution_count": 114,
   "metadata": {},
   "outputs": [
    {
     "data": {
      "text/html": [
       "<div>\n",
       "<style scoped>\n",
       "    .dataframe tbody tr th:only-of-type {\n",
       "        vertical-align: middle;\n",
       "    }\n",
       "\n",
       "    .dataframe tbody tr th {\n",
       "        vertical-align: top;\n",
       "    }\n",
       "\n",
       "    .dataframe thead th {\n",
       "        text-align: right;\n",
       "    }\n",
       "</style>\n",
       "<table border=\"1\" class=\"dataframe\">\n",
       "  <thead>\n",
       "    <tr style=\"text-align: right;\">\n",
       "      <th></th>\n",
       "      <th>Area</th>\n",
       "      <th>Total Gross</th>\n",
       "    </tr>\n",
       "  </thead>\n",
       "  <tbody>\n",
       "    <tr>\n",
       "      <th>1</th>\n",
       "      <td>US &amp; Canada</td>\n",
       "      <td>$5,893,164,206 (60)</td>\n",
       "    </tr>\n",
       "    <tr>\n",
       "      <th>2</th>\n",
       "      <td>China</td>\n",
       "      <td>$1,741,738,739 (9)</td>\n",
       "    </tr>\n",
       "    <tr>\n",
       "      <th>3</th>\n",
       "      <td>United Kingdom</td>\n",
       "      <td>$722,401,438 (28)</td>\n",
       "    </tr>\n",
       "    <tr>\n",
       "      <th>4</th>\n",
       "      <td>South Korea</td>\n",
       "      <td>$583,913,939 (18)</td>\n",
       "    </tr>\n",
       "    <tr>\n",
       "      <th>5</th>\n",
       "      <td>Brazil</td>\n",
       "      <td>$448,587,322 (19)</td>\n",
       "    </tr>\n",
       "  </tbody>\n",
       "</table>\n",
       "</div>"
      ],
      "text/plain": [
       "             Area          Total Gross\n",
       "1     US & Canada  $5,893,164,206 (60)\n",
       "2           China   $1,741,738,739 (9)\n",
       "3  United Kingdom    $722,401,438 (28)\n",
       "4     South Korea    $583,913,939 (18)\n",
       "5          Brazil    $448,587,322 (19)"
      ]
     },
     "execution_count": 114,
     "metadata": {},
     "output_type": "execute_result"
    }
   ],
   "source": [
    "box_office_person = pd.read_csv('box_office_person.csv').iloc[1:, :2]\n",
    "box_office_person.head()"
   ]
  },
  {
   "cell_type": "code",
   "execution_count": 115,
   "metadata": {},
   "outputs": [],
   "source": [
    "box_office_person['gross'] = box_office_person['Total Gross'].apply(lambda x: ''.join(re.split(pattern, x)[0].split(','))[1:])"
   ]
  },
  {
   "cell_type": "code",
   "execution_count": 116,
   "metadata": {},
   "outputs": [],
   "source": [
    "box_office_person = box_office_person.rename({'Area': 'Country'}, axis=1)"
   ]
  },
  {
   "cell_type": "code",
   "execution_count": null,
   "metadata": {},
   "outputs": [],
   "source": []
  },
  {
   "cell_type": "code",
   "execution_count": 117,
   "metadata": {},
   "outputs": [],
   "source": [
    "# box_office_person.iloc[0,0] = 'North America'"
   ]
  },
  {
   "cell_type": "code",
   "execution_count": 118,
   "metadata": {},
   "outputs": [
    {
     "data": {
      "text/html": [
       "<div>\n",
       "<style scoped>\n",
       "    .dataframe tbody tr th:only-of-type {\n",
       "        vertical-align: middle;\n",
       "    }\n",
       "\n",
       "    .dataframe tbody tr th {\n",
       "        vertical-align: top;\n",
       "    }\n",
       "\n",
       "    .dataframe thead th {\n",
       "        text-align: right;\n",
       "    }\n",
       "</style>\n",
       "<table border=\"1\" class=\"dataframe\">\n",
       "  <thead>\n",
       "    <tr style=\"text-align: right;\">\n",
       "      <th></th>\n",
       "      <th>Country</th>\n",
       "      <th>Total Gross</th>\n",
       "      <th>gross</th>\n",
       "    </tr>\n",
       "  </thead>\n",
       "  <tbody>\n",
       "    <tr>\n",
       "      <th>1</th>\n",
       "      <td>US &amp; Canada</td>\n",
       "      <td>$5,893,164,206 (60)</td>\n",
       "      <td>5893164206</td>\n",
       "    </tr>\n",
       "    <tr>\n",
       "      <th>2</th>\n",
       "      <td>China</td>\n",
       "      <td>$1,741,738,739 (9)</td>\n",
       "      <td>1741738739</td>\n",
       "    </tr>\n",
       "    <tr>\n",
       "      <th>3</th>\n",
       "      <td>United Kingdom</td>\n",
       "      <td>$722,401,438 (28)</td>\n",
       "      <td>722401438</td>\n",
       "    </tr>\n",
       "    <tr>\n",
       "      <th>4</th>\n",
       "      <td>South Korea</td>\n",
       "      <td>$583,913,939 (18)</td>\n",
       "      <td>583913939</td>\n",
       "    </tr>\n",
       "    <tr>\n",
       "      <th>5</th>\n",
       "      <td>Brazil</td>\n",
       "      <td>$448,587,322 (19)</td>\n",
       "      <td>448587322</td>\n",
       "    </tr>\n",
       "    <tr>\n",
       "      <th>...</th>\n",
       "      <td>...</td>\n",
       "      <td>...</td>\n",
       "      <td>...</td>\n",
       "    </tr>\n",
       "    <tr>\n",
       "      <th>82</th>\n",
       "      <td>Jamaica</td>\n",
       "      <td>$297,261 (1)</td>\n",
       "      <td>297261</td>\n",
       "    </tr>\n",
       "    <tr>\n",
       "      <th>83</th>\n",
       "      <td>Ghana</td>\n",
       "      <td>$126,054 (5)</td>\n",
       "      <td>126054</td>\n",
       "    </tr>\n",
       "    <tr>\n",
       "      <th>84</th>\n",
       "      <td>Cyprus</td>\n",
       "      <td>$125,668 (2)</td>\n",
       "      <td>125668</td>\n",
       "    </tr>\n",
       "    <tr>\n",
       "      <th>85</th>\n",
       "      <td>Mongolia</td>\n",
       "      <td>$100,575 (1)</td>\n",
       "      <td>100575</td>\n",
       "    </tr>\n",
       "    <tr>\n",
       "      <th>86</th>\n",
       "      <td>Central America</td>\n",
       "      <td>$12,705 (1)</td>\n",
       "      <td>12705</td>\n",
       "    </tr>\n",
       "  </tbody>\n",
       "</table>\n",
       "<p>86 rows × 3 columns</p>\n",
       "</div>"
      ],
      "text/plain": [
       "            Country          Total Gross       gross\n",
       "1       US & Canada  $5,893,164,206 (60)  5893164206\n",
       "2             China   $1,741,738,739 (9)  1741738739\n",
       "3    United Kingdom    $722,401,438 (28)   722401438\n",
       "4       South Korea    $583,913,939 (18)   583913939\n",
       "5            Brazil    $448,587,322 (19)   448587322\n",
       "..              ...                  ...         ...\n",
       "82          Jamaica         $297,261 (1)      297261\n",
       "83            Ghana         $126,054 (5)      126054\n",
       "84           Cyprus         $125,668 (2)      125668\n",
       "85         Mongolia         $100,575 (1)      100575\n",
       "86  Central America          $12,705 (1)       12705\n",
       "\n",
       "[86 rows x 3 columns]"
      ]
     },
     "execution_count": 118,
     "metadata": {},
     "output_type": "execute_result"
    }
   ],
   "source": [
    "box_office_person"
   ]
  },
  {
   "cell_type": "code",
   "execution_count": 119,
   "metadata": {},
   "outputs": [],
   "source": [
    "countries = [c.name for c in list(pycountry.countries)]"
   ]
  },
  {
   "cell_type": "code",
   "execution_count": 120,
   "metadata": {
    "scrolled": true
   },
   "outputs": [],
   "source": [
    "# box_office_person = box_office_person.append(pd.DataFrame({'Country': 'Canada', 'Total Gross': '$0', 'gross': 0}, index=[0]))"
   ]
  },
  {
   "cell_type": "code",
   "execution_count": 136,
   "metadata": {},
   "outputs": [],
   "source": [
    "def country_code(country):\n",
    "    try:\n",
    "        code = pc.country_name_to_country_alpha2(country, cn_name_format=\"default\")\n",
    "        return pc.country_alpha2_to_continent_code(code)\n",
    "    except:\n",
    "        return country\n",
    "box_office_person['continent'] = box_office_person.Country.apply(lambda x: country_code(x))"
   ]
  },
  {
   "cell_type": "code",
   "execution_count": 144,
   "metadata": {},
   "outputs": [],
   "source": [
    "continent_codes = ['AS', 'EU', 'SA', 'NA', 'OC', 'AF']"
   ]
  },
  {
   "cell_type": "code",
   "execution_count": 148,
   "metadata": {},
   "outputs": [],
   "source": [
    "box_office_person[box_office_person.continent.apply(lambda x: x not in continent_codes)]\n",
    "mapping = [\n",
    "    [1,'NA'],\n",
    "    [9, 'AS'],\n",
    "#     [57, 'EU'],\n",
    "    [62, 'EU'],\n",
    "    [63, 'SA'],\n",
    "    [67, 'AF'],\n",
    "    [70, 'AF'],\n",
    "    [72, 'EU']\n",
    "]"
   ]
  },
  {
   "cell_type": "code",
   "execution_count": 149,
   "metadata": {},
   "outputs": [],
   "source": [
    "for i in mapping:\n",
    "    row = i[0] - 1\n",
    "    code = i[1]\n",
    "    box_office_person.iloc[row, 3] = code"
   ]
  },
  {
   "cell_type": "code",
   "execution_count": 153,
   "metadata": {},
   "outputs": [],
   "source": [
    "box_office_person = box_office_person[box_office_person.continent.apply(lambda x: x in continent_codes)]"
   ]
  },
  {
   "cell_type": "code",
   "execution_count": 154,
   "metadata": {},
   "outputs": [],
   "source": [
    "box_office_person.to_csv('box_office.csv')"
   ]
  },
  {
   "cell_type": "code",
   "execution_count": null,
   "metadata": {},
   "outputs": [],
   "source": []
  },
  {
   "cell_type": "code",
   "execution_count": null,
   "metadata": {},
   "outputs": [],
   "source": []
  },
  {
   "cell_type": "code",
   "execution_count": 159,
   "metadata": {},
   "outputs": [],
   "source": [
    "# network map data prep\n",
    "also_viewed_url = 'https://pro.imdb.com/name/nm0000375/people_also_viewed?ref_=nm_pav_see_more&subpage=boxoffice'\n",
    "also = requests.get(also_viewed_url)\n",
    "if also.ok:\n",
    "    content = also.content\n",
    "    text = also.text\n",
    "    soup = BeautifulSoup(text)"
   ]
  },
  {
   "cell_type": "code",
   "execution_count": 170,
   "metadata": {},
   "outputs": [
    {
     "data": {
      "text/plain": [
       "<!DOCTYPE html>\n",
       "<!--[if IE 8]><html class=\"a-no-js a-lt-ie10 a-lt-ie9 a-ie8\" data-19ax5a9jf=\"dingo\"><![endif]--><!--[if IE 9]><html class=\"a-no-js a-lt-ie10 a-ie9\" data-19ax5a9jf=\"dingo\"><![endif]--><!--[if !IE]><!--><html class=\"a-no-js\" data-19ax5a9jf=\"dingo\"><!--<![endif]--><head><script>var aPageStart = (new Date()).getTime();</script><meta charset=\"utf-8\"/> <meta content=\"https://m.media-amazon.com/images/G/01/IMDbPro/images/share/social_sharing_imdb_logo-3939248796._CB470254011_.png\" property=\"og:image\"/>\n",
       "<title dir=\"ltr\">IMDbPro Official Site | Start Your Free Trial</title> <link href=\"https://m.media-amazon.com/images/G/01/IMDbPro/images/favicon-689397331._CB470253993_.ico\" rel=\"shortcut icon\"/>\n",
       "<link href=\"https://m.media-amazon.com/images/G/01/IMDbPro/images/mobile/pro_icon_48x48-3843847253._CB470253986_.png\" rel=\"apple-touch-icon\"/>\n",
       "<link href=\"https://m.media-amazon.com/images/G/01/IMDbPro/images/mobile/pro_icon_72x72-92651944._CB470253986_.png\" rel=\"apple-touch-icon\" sizes=\"72x72\"/>\n",
       "<link href=\"https://m.media-amazon.com/images/G/01/IMDbPro/images/mobile/pro_icon_96x96-3612870698._CB470253987_.png\" rel=\"apple-touch-icon\" sizes=\"96x96\"/>\n",
       "<link href=\"https://m.media-amazon.com/images/G/01/IMDbPro/images/mobile/pro_icon_120x120-913817585._CB470254013_.png\" rel=\"apple-touch-icon\" sizes=\"120x120\"/>\n",
       "<link href=\"https://m.media-amazon.com/images/G/01/IMDbPro/images/mobile/pro_icon_152x152-451784788._CB470254013_.png\" rel=\"apple-touch-icon\" sizes=\"152x152\"/>\n",
       "<link href=\"https://m.media-amazon.com/images/G/01/IMDbPro/images/mobile/pro_icon_192x192-1651339441._CB470253987_.png\" rel=\"apple-touch-icon\" sizes=\"192x192\"/>\n",
       "<link href=\"https://m.media-amazon.com/images/I/51tax7M48-L._RC|516fcOUE-HL.css,01evdoiemkL.css,01K+Ps1DeEL.css,31pdJv9iSzL.css,01VszOUTO6L.css,11UGC+GXOPL.css,21LK7jaicML.css,11L58Qpo0GL.css,21kyTi1FabL.css,01ruG+gDPFL.css,01YhS3Cs-hL.css,21GwE3cR-yL.css,019SHZnt8RL.css,01wAWQRgXzL.css,21bWcRJYNIL.css,11WgRxUdJRL.css,01dU8+SPlFL.css,11ocrgKoE-L.css,01SHjPML6tL.css,111-D2qRjiL.css,01QrWuRrZ-L.css,310Imb6LqFL.css,11Z1a0FxSIL.css,01cbS3UK11L.css,21mOLw+nYYL.css,01L8Y-JFEhL.css_.css?AUIClients/AmazonUI#not-trident\" rel=\"stylesheet\"/>\n",
       "<link href=\"https://m.media-amazon.com/images/I/313hON4fx8L.css?AUIClients/IMDbProLandingPageAssets\" rel=\"stylesheet\"/>\n",
       "<link href=\"https://m.media-amazon.com/images/I/01SdjaY0ZsL._RC|81AWcl6Gn1L.css_.css?AUIClients/IMDbProSiteAssets\" rel=\"stylesheet\"/>\n",
       "<script>\n",
       "(function(f,h,Q,A){function G(a){v&&v.tag&&v.tag(q(\":\",\"aui\",a))}function x(a,b){v&&v.count&&v.count(\"aui:\"+a,0===b?0:b||(v.count(\"aui:\"+a)||0)+1)}function l(a){try{return a.test(navigator.userAgent)}catch(b){return!1}}function y(a,b,c){a.addEventListener?a.addEventListener(b,c,!1):a.attachEvent&&a.attachEvent(\"on\"+b,c)}function q(a,b,c,e){b=b&&c?b+a+c:b||c;return e?q(a,b,e):b}function H(a,b,c){try{Object.defineProperty(a,b,{value:c,writable:!1})}catch(e){a[b]=c}return c}function ta(a,b){var c=a.length,\n",
       "e=c,g=function(){e--||(R.push(b),S||(setTimeout(T,0),S=!0))};for(g();c--;)ca[a[c]]?g():(B[a[c]]=B[a[c]]||[]).push(g)}function ua(a,b,c,e,g){var d=h.createElement(a?\"script\":\"link\");y(d,\"error\",e);g&&y(d,\"load\",g);a?(d.type=\"text/javascript\",d.async=!0,c&&/AUIClients|images[/]I/.test(b)&&d.setAttribute(\"crossorigin\",\"anonymous\"),d.src=b):(d.rel=\"stylesheet\",d.href=b);h.getElementsByTagName(\"head\")[0].appendChild(d)}function da(a,b){function c(c,e){function g(){ua(b,c,h,function(b){!I&&h?(h=!1,x(\"resource_retry\"),\n",
       "g()):(x(\"resource_error\"),a.log(\"Asset failed to load: \"+c,I?\"WARN\":A));b&&b.stopPropagation?b.stopPropagation():f.event&&(f.event.cancelBubble=!0)},e)}if(ea[c])return!1;ea[c]=!0;x(\"resource_count\");var h=!0;return!g()}if(b){var e=0,g=0;c.andConfirm=function(a,b){return c(a,function(){e++;b&&b.apply(this,arguments)})};c.confirm=function(){g++};c.getCsriCounters=function(){return{reqs:e,full:g}}}return c}function va(a,b,c){for(var e={name:a,guard:function(c){return b.guardFatal(a,c)},logError:function(c,\n",
       "d,e){b.logError(c,d,e,a)}},g=[],d=0;d<c.length;d++)J.hasOwnProperty(c[d])&&(g[d]=U.hasOwnProperty(c[d])?U[c[d]](J[c[d]],e):J[c[d]]);return g}function C(a,b,c,e,g){return function(d,h){function m(){var a=null;e?a=h:\"function\"===typeof h&&(p.start=D(),a=h.apply(f,va(d,k,l)),p.end=D());if(b){J[d]=a;a=d;for(ca[a]=!0;(B[a]||[]).length;)B[a].shift()();delete B[a]}p.done=!0}var k=g||this;\"function\"===typeof d&&(h=d,d=A);b&&(d=d?d.replace(fa,\"\"):\"__NONAME__\",V.hasOwnProperty(d)&&k.error(q(\", reregistered by \",\n",
       "q(\" by \",d+\" already registered\",V[d]),k.attribution),d),V[d]=k.attribution);for(var l=[],n=0;n<a.length;n++)l[n]=a[n].replace(fa,\"\");var p=ga[d||\"anon\"+ ++wa]={depend:l,registered:D(),namespace:k.namespace};c?m():ta(l,k.guardFatal(d,m));return{decorate:function(a){U[d]=k.guardFatal(d,a)}}}}function ha(a){return function(){var b=Array.prototype.slice.call(arguments);return{execute:C(b,!1,a,!1,this),register:C(b,!0,a,!1,this)}}}function W(a,b){return function(c,e){e||(e=c,c=A);var g=this.attribution;\n",
       "return function(){z.push(b||{attribution:g,name:c,logLevel:a});var d=e.apply(this,arguments);z.pop();return d}}}function K(a,b){this.load={js:da(this,!0),css:da(this)};H(this,\"namespace\",b);H(this,\"attribution\",a)}function ia(){h.body?p.trigger(\"a-bodyBegin\"):setTimeout(ia,20)}function E(a,b){a.className=X(a,b)+\" \"+b}function X(a,b){return(\" \"+a.className+\" \").split(\" \"+b+\" \").join(\" \").replace(/^ | $/g,\"\")}function ja(a){try{return a()}catch(b){return!1}}function L(){if(M){var a={w:f.innerWidth||\n",
       "m.clientWidth,h:f.innerHeight||m.clientHeight};5<Math.abs(a.w-Y.w)||50<a.h-Y.h?(Y=a,N=4,(a=k.mobile||k.tablet?450<a.w&&a.w>a.h:1250<=a.w)?E(m,\"a-ws\"):m.className=X(m,\"a-ws\")):0<N&&(N--,ka=setTimeout(L,16))}}function xa(a){(M=a===A?!M:!!a)&&L()}function ya(){return M}function r(a,b){return\"sw:\"+(b||\"\")+\":\"+a+\":\"}function la(){ma.forEach(function(a){G(a)})}function n(a){ma.push(a)}function na(a,b,c,e){if(c){b=l(/Chrome/i)&&!l(/Edge/i)&&!l(/OPR/i)&&!a.capabilities.isAmazonApp&&!l(new RegExp(Z+\"bwv\"+\n",
       "Z+\"b\"));var g=r(e,\"browser\"),d=r(e,\"prod_mshop\"),f=r(e,\"beta_mshop\");!a.capabilities.isAmazonApp&&c.browser&&b&&(n(g+\"supported\"),c.browser.action(g,e));!b&&c.browser&&n(g+\"unsupported\");c.prodMshop&&n(d+\"unsupported\");c.betaMshop&&n(f+\"unsupported\")}}\"use strict\";var O=Q.now=Q.now||function(){return+new Q},D=function(a){return a&&a.now?a.now.bind(a):O}(f.performance),za=D(),t=f.AmazonUIPageJS||f.P;if(t&&t.when&&t.register)throw Error(\"A copy of P has already been loaded on this page.\");var v=f.ue;\n",
       "G();G(\"aui_build_date:3.19.7-2019-10-30\");var R=[],S=!1,T;T=function(){for(var a=setTimeout(T,0),b=O();R.length;)if(R.shift()(),50<O()-b)return;clearTimeout(a);S=!1};var ca={},B={},ea={},I=!1;y(f,\"beforeunload\",function(){I=!0;setTimeout(function(){I=!1},1E4)});var fa=/^prv:/,V={},J={},U={},ga={},wa=0,Z=String.fromCharCode(92),F,z=[],oa=f.onerror;f.onerror=function(a,b,c,e,g){g&&\"object\"===typeof g||(g=Error(a,b,c),g.columnNumber=e,g.stack=b||c||e?q(Z,g.message,\"at \"+q(\":\",b,c,e)):A);var d=z.pop()||\n",
       "{};g.attribution=q(\":\",g.attribution||d.attribution,d.name);g.logLevel=d.logLevel;g.attribution&&console&&console.log&&console.log([g.logLevel||\"ERROR\",a,\"thrown by\",g.attribution].join(\" \"));z=[];oa&&(d=[].slice.call(arguments),d[4]=g,oa.apply(f,d))};K.prototype={logError:function(a,b,c,e){b={message:b,logLevel:c||\"ERROR\",attribution:q(\":\",this.attribution,e)};if(f.ueLogError)return f.ueLogError(a||b,a?b:null),!0;console&&console.error&&(console.log(b),console.error(a));return!1},error:function(a,\n",
       "b,c,e){a=Error(q(\":\",e,a,c));a.attribution=q(\":\",this.attribution,b);throw a;},guardError:W(),guardFatal:W(\"FATAL\"),guardCurrent:function(a){var b=z[z.length-1];return b?W(b.logLevel,b).call(this,a):a},log:function(a,b,c){return this.logError(null,a,b,c)},declare:C([],!0,!0,!0),register:C([],!0),execute:C([]),AUI_BUILD_DATE:\"3.19.7-2019-10-30\",when:ha(),now:ha(!0),trigger:function(a,b,c){var e=O();this.declare(a,{data:b,pageElapsedTime:e-(f.aPageStart||NaN),triggerTime:e});c&&c.instrument&&F.when(\"prv:a-logTrigger\").execute(function(b){b(a)})},\n",
       "handleTriggers:function(){this.log(\"handleTriggers deprecated\")},attributeErrors:function(a){return new K(a)},_namespace:function(a,b){return new K(a,b)}};var p=H(f,\"AmazonUIPageJS\",new K);F=p._namespace(\"PageJS\",\"AmazonUI\");F.declare(\"prv:p-debug\",ga);p.declare(\"p-recorder-events\",[]);p.declare(\"p-recorder-stop\",function(){});H(f,\"P\",p);ia();if(h.addEventListener){var pa;h.addEventListener(\"DOMContentLoaded\",pa=function(){p.trigger(\"a-domready\");h.removeEventListener(\"DOMContentLoaded\",pa,!1)},!1)}var m=\n",
       "h.documentElement,aa=function(){var a=[\"O\",\"ms\",\"Moz\",\"Webkit\"],b=h.createElement(\"div\");return{testGradients:function(){b.style.cssText=\"background-image:-webkit-gradient(linear,left top,right bottom,from(#1E4),to(white));background-image:-webkit-linear-gradient(left top,#1E4,white);background-image:linear-gradient(left top,#1E4,white);\";return~b.style.backgroundImage.indexOf(\"gradient\")},test:function(c){var e=c.charAt(0).toUpperCase()+c.substr(1);c=(a.join(e+\" \")+e+\" \"+c).split(\" \");for(e=c.length;e--;)if(\"\"===\n",
       "b.style[c[e]])return!0;return!1},testTransform3d:function(){var a=!1;f.matchMedia&&(a=f.matchMedia(\"(-webkit-transform-3d)\").matches);return a}}}(),t=m.className,qa=/(^| )a-mobile( |$)/.test(t),ra=/(^| )a-tablet( |$)/.test(t),k={audio:function(){return!!h.createElement(\"audio\").canPlayType},video:function(){return!!h.createElement(\"video\").canPlayType},canvas:function(){return!!h.createElement(\"canvas\").getContext},svg:function(){return!!h.createElementNS&&!!h.createElementNS(\"http://www.w3.org/2000/svg\",\n",
       "\"svg\").createSVGRect},offline:function(){return navigator.hasOwnProperty&&navigator.hasOwnProperty(\"onLine\")&&navigator.onLine},dragDrop:function(){return\"draggable\"in h.createElement(\"span\")},geolocation:function(){return!!navigator.geolocation},history:function(){return!(!f.history||!f.history.pushState)},webworker:function(){return!!f.Worker},autofocus:function(){return\"autofocus\"in h.createElement(\"input\")},inputPlaceholder:function(){return\"placeholder\"in h.createElement(\"input\")},textareaPlaceholder:function(){return\"placeholder\"in\n",
       "h.createElement(\"textarea\")},localStorage:function(){return\"localStorage\"in f&&null!==f.localStorage},orientation:function(){return\"orientation\"in f},touch:function(){return\"ontouchend\"in h},gradients:function(){return aa.testGradients()},hires:function(){var a=f.devicePixelRatio&&1.5<=f.devicePixelRatio||f.matchMedia&&f.matchMedia(\"(min-resolution:144dpi)\").matches;x(\"hiRes\"+(qa?\"Mobile\":ra?\"Tablet\":\"Desktop\"),a?1:0);return a},transform3d:function(){return aa.testTransform3d()},touchScrolling:function(){return l(/Windowshop|android|OS ([5-9]|[1-9][0-9]+)(_[0-9]{1,2})+ like Mac OS X|Chrome|Silk|Firefox|Trident.+?; Touch/i)},\n",
       "ios:function(){return l(/OS [1-9][0-9]*(_[0-9]*)+ like Mac OS X/i)&&!l(/trident|Edge/i)},android:function(){return l(/android.([1-9]|[L-Z])/i)&&!l(/trident|Edge/i)},mobile:function(){return qa},tablet:function(){return ra},rtl:function(){return\"rtl\"===m.dir}},u;for(u in k)k.hasOwnProperty(u)&&(k[u]=ja(k[u]));for(var ba=\"textShadow textStroke boxShadow borderRadius borderImage opacity transform transition\".split(\" \"),P=0;P<ba.length;P++)k[ba[P]]=ja(function(){return aa.test(ba[P])});var M=!0,ka=0,\n",
       "Y={w:0,h:0},N=4;L();y(f,\"resize\",function(){clearTimeout(ka);N=4;L()});var sa={getItem:function(a){try{return f.localStorage.getItem(a)}catch(b){}},setItem:function(a,b){try{return f.localStorage.setItem(a,b)}catch(c){}}};m.className=X(m,\"a-no-js\");E(m,\"a-js\");!l(/OS [1-8](_[0-9]*)+ like Mac OS X/i)||f.navigator.standalone||l(/safari/i)||E(m,\"a-ember\");t=[];for(u in k)k.hasOwnProperty(u)&&k[u]&&t.push(\"a-\"+u.replace(/([A-Z])/g,function(a){return\"-\"+a.toLowerCase()}));E(m,t.join(\" \"));m.setAttribute(\"data-aui-build-date\",\n",
       "\"3.19.7-2019-10-30\");p.register(\"p-detect\",function(){return{capabilities:k,localStorage:k.localStorage&&sa,toggleResponsiveGrid:xa,responsiveGridEnabled:ya}});l(/UCBrowser/i)||k.localStorage&&E(m,sa.getItem(\"a-font-class\"));p.declare(\"a-event-revised-handling\",!1);var w;try{w=navigator.serviceWorker}catch(a){G(\"sw:nav_err\")}w&&(y(w,\"message\",function(a){a&&a.data&&x(a.data.k,a.data.v)}),w.controller&&w.controller.postMessage(\"MSG-RDY\"));var ma=[];(function(a){var b=a.reg,c=a.unreg;w&&w.getRegistrations?\n",
       "(F.when(\"A\",\"a-util\").execute(function(a,b){na(a,b,c,\"unregister\")}),y(f,\"load\",function(){F.when(\"A\",\"a-util\").execute(function(a,c){na(a,c,b,\"register\");la()})})):(b&&(b.browser&&n(r(\"register\",\"browser\")+\"unsupported\"),b.prodMshop&&n(r(\"register\",\"prod_mshop\")+\"unsupported\"),b.betaMshop&&n(r(\"register\",\"beta_mshop\")+\"unsupported\")),c&&(c.browser&&n(r(\"unregister\",\"browser\")+\"unsupported\"),c.prodMshop&&n(r(\"unregister\",\"prod_mshop\")+\"unsupported\"),c.betaMshop&&n(r(\"unregister\",\"beta_mshop\")+\"unsupported\")),\n",
       "la())})({reg:{},unreg:{}});p.declare(\"a-fix-event-off\",!1);x(\"pagejs:pkgExecTime\",D()-za)})(window,document,Date);\n",
       "(window.AmazonUIPageJS ? AmazonUIPageJS : P).load.js('https://m.media-amazon.com/images/I/61-6nKPKyWL._RC|11-BZEJ8lnL.js,61UOrSK7D9L.js,21Of0-9HPCL.js,012FVc3131L.js,119KAWlHU6L.js,51Vjz4D5exL.js,11AHlQhPRjL.js,016iHgpF74L.js,11aNYFFS5hL.js,116tgw9TSaL.js,211-p4GRUCL.js,01PoLXBDXWL.js,6131jEFdnAL.js,01mi-J86cyL.js,11BOgvnnntL.js,31UWuPgtTtL.js,01rpauTep4L.js,01iyxuSGj4L.js,01p1Ax2BX5L.js_.js?AUIClients/AmazonUI');\n",
       "(window.AmazonUIPageJS ? AmazonUIPageJS : P).load.js('https://m.media-amazon.com/images/I/21nyTsf9jYL.js?AUIClients/IMDbProLandingPageAssets');\n",
       "(window.AmazonUIPageJS ? AmazonUIPageJS : P).load.js('https://m.media-amazon.com/images/I/21G215oqvfL._RC|21OJDARBhQL.js,1140xMp++9L.js,411cVmdl12L.js,21eSNvaI9RL.js,510jh6+edQL.js_.js?AUIClients/IMDbProSiteAssets');\n",
       "</script>\n",
       "<script>\n",
       "var ue_sid = \"000-0000000-0000000\"; // inject session id\n",
       "var ue_id = \"71E4H58J9SSP2HBY3BXN\"; // inject main request id\n",
       "</script>\n",
       "<style>\n",
       "@font-face {\n",
       "font-family: 'Glyphicons Regular';\n",
       "src: url('/api/fonts/glyphicons-regular-192.eot');\n",
       "src: url('/api/fonts/glyphicons-regular-192.eot?#iefix') format('embedded-opentype'),\n",
       "url('/api/fonts/glyphicons-regular-192.woff2') format('woff2'),\n",
       "url('/api/fonts/glyphicons-regular-192.woff') format('woff'),\n",
       "url('/api/fonts/glyphicons-regular-192.ttf') format('truetype'),\n",
       "url('/api/fonts/glyphicons-regular-192.svg#glyphiconsregular') format('svg');\n",
       "font-weight: normal;\n",
       "font-style: normal;\n",
       "}\n",
       "@font-face {\n",
       "font-family: 'Glyphicons Halflings';\n",
       "src: url('/api/fonts/glyphicons-halflings-regular-192.eot');\n",
       "src: url('/api/fonts/glyphicons-halflings-regular-192.eot?#iefix') format('embedded-opentype'),\n",
       "url('/api/fonts/glyphicons-halflings-regular-192.woff2') format('woff2'),\n",
       "url('/api/fonts/glyphicons-halflings-regular-192.woff') format('woff'),\n",
       "url('/api/fonts/glyphicons-halflings-regular-192.ttf') format('truetype'),\n",
       "url('/api/fonts/glyphicons-halflings-regular-192.svg#glyphicons_halflingsregular') format('svg');\n",
       "font-weight: normal;\n",
       "font-style: normal;\n",
       "}\n",
       "@font-face {\n",
       "font-family: 'Glyphicons Social';\n",
       "src: url('/api/fonts/glyphicons-social-regular.eot');\n",
       "src: url('/api/fonts/glyphicons-social-regular.eot?#iefix') format('embedded-opentype'),\n",
       "url('/api/fonts/glyphicons-social-regular.woff2') format('woff2'),\n",
       "url('/api/fonts/glyphicons-social-regular.woff') format('woff'),\n",
       "url('/api/fonts/glyphicons-social-regular.ttf') format('truetype'),\n",
       "url('/api/fonts/glyphicons-social-regular.svg#glyphicons_socialregular') format('svg');\n",
       "font-weight: normal;\n",
       "font-style: normal;\n",
       "}\n",
       "</style>\n",
       "</head><body class=\"a-color-base-background a-aui_149818-c a-aui_152852-c a-aui_157141-c a-aui_158613-c a-aui_160684-c a-aui_57326-c a-aui_72554-c a-aui_accessibility_49860-c a-aui_attr_validations_1_51371-c a-aui_bolt_62845-c a-aui_pci_risk_banner_210084-c a-aui_perf_130093-c a-aui_tnr_v2_180836-c a-aui_ux_113788-c a-aui_ux_114039-c a-aui_ux_138741-c a-aui_ux_145937-c a-aui_ux_60000-c\" id=\"splash\"><div id=\"a-page\"><script data-a-state='{\"key\":\"a-wlab-states\"}' type=\"a-state\">{\"AUI_149818\":null,\"AUI_152852\":null,\"AUI_157141\":null,\"AUI_158613\":null,\"AUI_160684\":null,\"AUI_57326\":null,\"AUI_72554\":null,\"AUI_ACCESSIBILITY_49860\":null,\"AUI_ATTR_VALIDATIONS_1_51371\":null,\"AUI_BOLT_62845\":null,\"AUI_PCI_RISK_BANNER_210084\":null,\"AUI_PERF_130093\":null,\"AUI_TNR_V2_180836\":null,\"AUI_UX_113788\":null,\"AUI_UX_114039\":null,\"AUI_UX_138741\":null,\"AUI_UX_145937\":null,\"AUI_UX_60000\":null}</script>\n",
       "<div class=\"a-container a-color-base-background\" id=\"page_container\"><div class=\"a-section a-spacing-none\" id=\"logged_out_header\"><div class=\"a-row a-grid-vertical-align a-grid-center content_container header_row\"><div class=\"a-column a-span5 a-text-left\"><a class=\"a-size- a-align- a-link- logo pro_color aok-block\" href=\"https://pro.imdb.com/?ref_=spl_stkyhdr_i\"></a></div><div class=\"a-column a-span7 a-text-right a-span-last\"><div class=\"a-section aok-block\"><div class=\"a-section a-spacing-none aok-inline-block aok-align-center\" id=\"header_message\"><span class=\"a-declarative\" data-a-popover='{\"position\":\"triggerBottom\", \"name\":\"imdb_login_popover\", \"closeButton\": false}' data-action=\"a-popover\"><a class=\"a-popover-trigger a-declarative\" href=\"javascript:void(0)\" id=\"imdb_pro_login_popover\"> Log In\n",
       "<i class=\"a-icon a-icon-popover\"></i></a></span><div class=\"a-popover-preload\" id=\"a-popover-imdb_login_popover\"><div class=\"a-section\" id=\"splash_login_dropdown\"><div class=\"a-section a-spacing-small a-spacing-top-small\" id=\"login_buttons\"><div class=\"a-section a-spacing-none a-spacing-top-none a-padding-none login_url\"><a class=\"a-size- a-align- a-link-\" data-bypasspublicrestriction=\"true\" href=\"https://pro.imdb.com/login/auth?u=%2F\"><div class=\"a-box login_pro aok-align-center\" id=\"login_with_amazon\" style=\"width:285px; height:40px;\"><div class=\"a-box-inner a-padding-small\"><div class=\"a-fixed-right-grid\"><div class=\"a-fixed-right-grid-inner\" style=\"padding-right:0px\"><div class=\"a-spacing-top-micro a-fixed-left-grid-col a-col-right\" style=\"padding-left:0%;float:left;\"><img alt=\"\" class=\"login_logo aok-align-center\" height=\"13px\" src=\"https://m.media-amazon.com/images/G/01/imdbpro/logos/amazon_login_logo._CB1539729833_.png\" width=\"40px\"/></div><div class=\"a-fixed-left-grid-col a-col-right\" style=\"padding-left:4%;float:left;\"><span class=\"a-size-medium login_text\"> Log in with Amazon\n",
       "</span></div></div></div></div></div></a></div><div class=\"a-section a-spacing-none a-spacing-top-none a-padding-none login_url\"><a class=\"a-size- a-align- a-link-\" data-bypasspublicrestriction=\"true\" href=\"https://pro.imdb.com/login/imdb?u=%2F\"><div class=\"a-box a-spacing-top-base login_pro aok-align-center\" id=\"login_with_imdb\" style=\"width:285px; height:40px;\"><div class=\"a-box-inner a-padding-small\"><div class=\"a-fixed-right-grid\"><div class=\"a-fixed-right-grid-inner\" style=\"padding-right:0px\"><div class=\"a-fixed-left-grid-col a-col-right\" style=\"padding-left:0%;float:left;\"><img alt=\"\" class=\"login_logo aok-align-center\" height=\"15px\" src=\"https://m.media-amazon.com/images/G/01/imdbpro/logos/imdb_login_logo._CB1539729863_.png\" width=\"35px\"/></div><div class=\"a-fixed-left-grid-col a-col-right\" style=\"padding-left:6%;float:left;\"><span class=\"a-size-medium login_text\"> Log in with IMDb\n",
       "</span></div></div></div></div></div></a></div></div></div></div></div>\n",
       "<span class=\"a-button a-button-primary aok-inline-block\"><span class=\"a-button-inner\"><a class=\"a-button-text\" data-bypasspublicrestriction=\"true\" href=\"https://pro.imdb.com/login/auth?u=%2Flogin%2Flwa&amp;imdbPageAction=signup&amp;ref_=spl_stkyhdr_signup&amp;ref_=spl_stkyhdr_signup\" role=\"button\"> Start Free Trial\n",
       "</a></span></span></div></div></div></div><div class=\"a-section a-spacing-none\" id=\"page_body\">\n",
       "<a name=\"slot_center-2\"></a>\n",
       "<script type=\"text/javascript\">if(typeof uet === 'function'){uet('bb','HeroWidget',{wb:1});}</script>\n",
       "<span class=\"ab_widget\">\n",
       "<div class=\"a-section background-image-wrapper\" id=\"hero_widget\"><img alt=\"\" class=\"background-image\" src=\"https://m.media-amazon.com/images/G/01/IMDbPro/images/amabot/splash/HeroWidget/landingPageBG._CB1530124262_.png\" width=\"100%\"/><div class=\"a-section background-image-content\"><div class=\"a-section a-text-center content_container\">\n",
       "<div class=\"a-section a-spacing-none a-padding-extra-large white-text\"><div class=\"a-row\"><div class=\"a-column a-span6 a-spacing-none a-spacing-top-double-large\"><div class=\"a-section a-spacing-extra-large a-spacing-top-double-large a-text-left\"> <span class=\"a-size-extra-large\">The essential resource for the entertainment industry</span>\n",
       "</div>\n",
       "<!-- prime content -->\n",
       "<div class=\"a-section a-spacing-double-large a-spacing-top-large a-text-left\">\n",
       "<span class=\"a-button a-button-primary\"><span class=\"a-button-inner\"><a class=\"a-button-text\" data-bypasspublicrestriction=\"true\" href=\"https://pro.imdb.com/login/auth?u=%2Flogin%2Flwa&amp;imdbPageAction=signup&amp;ref_=spl_hero_signup&amp;ref_=spl_hero_signup\" role=\"button\"> Start your 30-day free trial\n",
       "</a></span></span>\n",
       "</div>\n",
       "</div>\n",
       "<!-- Video/Image for the hero widget -->\n",
       "</div></div></div></div></div>\n",
       "</span>\n",
       "<script type=\"text/javascript\">\n",
       "if(typeof uex === 'function'){uex('ld','HeroWidget',{wb:1});}\n",
       "</script>\n",
       "<a name=\"slot_center-4\"></a>\n",
       "<script type=\"text/javascript\">if(typeof uet === 'function'){uet('bb','IntroductionWidget',{wb:1});}</script>\n",
       "<span class=\"ab_widget\">\n",
       "<div class=\"a-section a-padding-extra-large white-bg\" id=\"whats-included\"><div class=\"a-section a-text-center widgets-content-size\"> <div class=\"a-section a-spacing-large\"><span class=\"a-size-large a-color-base\">Industry professionals rely on IMDbPro every day</span></div>\n",
       "<div class=\"a-row\"><div class=\"a-column a-span5 a-push1\">\n",
       "<div class=\"a-section a-spacing-top-medium video-wrapper\"> <iframe allowfullscreen=\"\" frameborder=\"0\" mozallowfullscreen=\"\" src=\"https://player.vimeo.com/video/362313551?title=0&amp;portrait=0&amp;byline=0\" webkitallowfullscreen=\"\"></iframe>\n",
       "</div></div><div class=\"a-column a-span5 a-pull1 a-span-last\"><div class=\"a-section a-spacing-top-medium a-text-left\"><div class=\"a-section a-spacing-top-none list_item\"> <div class=\"a-section a-spacing-micro\"><span class=\"a-size-medium a-color-base\">Showcase yourself on IMDb &amp; Prime Video</span></div>\n",
       "<div class=\"a-section\"><span class=\"a-size-base a-color-base\">Manage your photos and the credits you are Known For on IMDbPro, IMDb, and Prime Video</span></div>\n",
       "</div><div class=\"a-section a-spacing-top-double-large list_item\"> <div class=\"a-section a-spacing-micro\"><span class=\"a-size-medium a-color-base\">Find industry contacts &amp; talent representation</span></div>\n",
       "<div class=\"a-section\"><span class=\"a-size-base a-color-base\">Stay connected with contact details for over 300,000 industry professionals and companies</span></div>\n",
       "</div><div class=\"a-section a-spacing-top-double-large list_item\"> <div class=\"a-section a-spacing-micro\"><span class=\"a-size-medium a-color-base\">Access in-development &amp; production titles</span></div>\n",
       "<div class=\"a-section\"><span class=\"a-size-base a-color-base\">Keep up-to-date on over 25,000 projects not available on IMDb</span></div>\n",
       "</div></div></div></div></div></div>\n",
       "</span>\n",
       "<script type=\"text/javascript\">\n",
       "if(typeof uex === 'function'){uex('ld','IntroductionWidget',{wb:1});}\n",
       "</script>\n",
       "<a name=\"slot_center-5\"></a>\n",
       "<script type=\"text/javascript\">if(typeof uet === 'function'){uet('bb','IntroductionWidget',{wb:1});}</script>\n",
       "<span class=\"ab_widget\">\n",
       "<div class=\"a-section a-padding-extra-large white-bg\" id=\"whats-included-additional\"><div class=\"a-section a-text-center widgets-content-size\"><div class=\"a-row\"><div class=\"a-column a-span5 a-push1\"><div class=\"a-section a-spacing-top-medium a-text-left\"><div class=\"a-section a-spacing-top-none list_item\"> <div class=\"a-section a-spacing-micro\"><span class=\"a-size-medium a-color-base\">NEW: Thousands of casting notices all in one place</span></div>\n",
       "<div class=\"a-section\"><span class=\"a-size-base a-color-base\">IMDbPro now offers members access to one of the industry’s largest selections of casting notices from leading entertainment job sites</span></div>\n",
       "</div><div class=\"a-section a-spacing-top-double-large list_item\"> <div class=\"a-section a-spacing-micro\"><span class=\"a-size-medium a-color-base\">Monitor industry trends and uncover box office insights</span></div>\n",
       "<div class=\"a-section\"><span class=\"a-size-base a-color-base\">Make informed decisions with detailed box office data and check STARmeter &amp; MOVIEmeter rankings</span></div>\n",
       "</div><div class=\"a-section a-spacing-top-double-large list_item\"> <div class=\"a-section a-spacing-micro\"><span class=\"a-size-medium a-color-base\">Never miss a cast, crew, or production update</span></div>\n",
       "<div class=\"a-section\"><span class=\"a-size-base a-color-base\">Use IMDbPro Track to follow any of IMDb’s 8 million people and 5 million titles and get alerts on updates to their pages or when they’re in the news</span></div>\n",
       "</div></div></div><div class=\"a-column a-span5 a-pull1 a-span-last\"><img alt=\"\" src=\"https://m.media-amazon.com/images/G/01/IMDbPro/images/xray2019._CB1565114444_.png\"/></div></div></div></div>\n",
       "</span>\n",
       "<script type=\"text/javascript\">\n",
       "if(typeof uex === 'function'){uex('ld','IntroductionWidget',{wb:1});}\n",
       "</script>\n",
       "<a name=\"slot_center-6\"></a>\n",
       "<script type=\"text/javascript\">if(typeof uet === 'function'){uet('bb','SplashSignupWidget',{wb:1});}</script>\n",
       "<span class=\"ab_widget\">\n",
       "<div class=\"a-section a-spacing-none white-bg\" id=\"signup-widget\"><div class=\"a-section a-spacing-extra-large a-spacing-top-extra-large a-text-center widgets-content-size\"><div class=\"a-section a-spacing-medium\"> <span class=\"a-size-medium\">Whichever side of the camera you want to be on, get there with IMDbPro</span>\n",
       "</div><div class=\"a-section\">\n",
       "<span class=\"a-button a-button-primary\"><span class=\"a-button-inner\"><a class=\"a-button-text\" data-bypasspublicrestriction=\"true\" href=\"https://pro.imdb.com/login/auth?u=%2Flogin%2Flwa&amp;imdbPageAction=signup&amp;ref_=spl_signup_signup&amp;ref_=spl_signup_signup\" role=\"button\"> Start your 30-day free trial\n",
       "</a></span></span></div></div></div>\n",
       "</span>\n",
       "<script type=\"text/javascript\">\n",
       "if(typeof uex === 'function'){uex('ld','SplashSignupWidget',{wb:1});}\n",
       "</script>\n",
       "<a name=\"slot_center-8\"></a>\n",
       "<script type=\"text/javascript\">if(typeof uet === 'function'){uet('bb','TestimonialWidget',{wb:1});}</script>\n",
       "<span class=\"ab_widget\">\n",
       "<div class=\"a-section grey-bg\" id=\"testimonial-widget\"><div class=\"a-section a-spacing-none a-padding-extra-large a-text-center widgets-content-size\"> <div class=\"a-section a-spacing-medium a-spacing-top-mini\"><span class=\"a-size-large a-color-base\">What industry leaders are saying</span></div>\n",
       "<div class=\"a-row a-spacing-top-none\"><div class=\"a-column a-span4\"><div class=\"a-section\"><img alt=\"\" height=\"121\" src=\"https://images-na.ssl-images-amazon.com/images/G/01/IMDbPro/images/amabot/Testimonial/zackary_quinto._V294097059_.png\" width=\"121\"/><div class=\"a-section a-spacing-medium\"> <span class=\"a-size-mini a-color-secondary a-text-bold\">Zachary Quinto, Actor, Star Trek (2009)</span>\n",
       "</div><div class=\"a-section a-spacing-mini\"> <span class=\"a-size-base a-color-base\">\"Hands down the most comprehensive website for industry information.\"</span>\n",
       "</div></div></div><div class=\"a-column a-span4\"><div class=\"a-section\"><img alt=\"\" height=\"121\" src=\"https://images-na.ssl-images-amazon.com/images/G/01/IMDbPro/images/amabot/Testimonial/spike_lee._V294097059_.png\" width=\"121\"/><div class=\"a-section a-spacing-medium\"> <span class=\"a-size-mini a-color-secondary a-text-bold\">Spike Lee, Director, Malcolm X</span>\n",
       "</div><div class=\"a-section a-spacing-mini\"> <span class=\"a-size-base a-color-base\">\"When I have to get credits I use IMDbPro.\"</span>\n",
       "</div></div></div><div class=\"a-column a-span4 a-span-last\"><div class=\"a-section\"><img alt=\"\" height=\"121\" src=\"https://images-na.ssl-images-amazon.com/images/G/01/IMDbPro/images/amabot/Testimonial/shanon_bialy._V294097058_.png\" width=\"121\"/><div class=\"a-section a-spacing-medium\"> <span class=\"a-size-mini a-color-secondary a-text-bold\">Sharon Bialy, Casting Director, The Walking Dead</span>\n",
       "</div><div class=\"a-section a-spacing-mini\"> <span class=\"a-size-base a-color-base\">\"Being a member of IMDbPro is one of the most important things an actor can do.\"</span>\n",
       "</div></div></div></div></div></div>\n",
       "</span>\n",
       "<script type=\"text/javascript\">\n",
       "if(typeof uex === 'function'){uex('ld','TestimonialWidget',{wb:1});}\n",
       "</script>\n",
       "<a name=\"slot_center-10\"></a>\n",
       "<script type=\"text/javascript\">if(typeof uet === 'function'){uet('bb','AppPromoWidget',{wb:1});}</script>\n",
       "<span class=\"ab_widget\">\n",
       "<div class=\"a-section background-image-wrapper\" id=\"app_promo_widget\"><img alt=\"\" class=\"background-image\" src=\"https://m.media-amazon.com/images/G/01/IMDbPro/images/AppBackground.CB493288977._CB1538515901_.jpg\" width=\"100%\"/><div class=\"a-section background-image-content\"><div class=\"a-section a-padding-double-large content_container\"><div class=\"a-row\"><div class=\"a-column a-span3 a-push2 a-spacing-top-double-large\"><img alt=\"\" src=\"https://m.media-amazon.com/images/G/01/IMDbPro/images/AppScreen-boxOffice_v2._CB1571854563_.png\"/></div><div class=\"a-column a-span5 a-pull1 a-spacing-top-double-large a-span-last\"><h2 class=\"a-spacing-medium a-spacing-top-double-large\"> Uncover box office insights on the IMDbPro app\n",
       "</h2><p class=\"a-spacing-extra-large a-size-medium a-color-tertiary\"> Make informed decisions and uncover industry trends with in-depth box office info for people, titles, and companies\n",
       "</p>\n",
       "<span class=\"a-button a-button-primary\"><span class=\"a-button-inner\"><a class=\"a-button-text\" data-bypasspublicrestriction=\"true\" href=\"https://pro.imdb.com/login/auth?u=%2Flogin%2Flwa&amp;imdbPageAction=signup&amp;ref_=spl_app_promo_signup&amp;ref_=spl_app_promo_signup\" role=\"button\"> Start your 30-day free trial\n",
       "</a></span></span></div></div></div></div></div>\n",
       "</span>\n",
       "<script type=\"text/javascript\">\n",
       "if(typeof uex === 'function'){uex('ld','AppPromoWidget',{wb:1});}\n",
       "</script>\n",
       "<a name=\"slot_center-12\"></a>\n",
       "<script type=\"text/javascript\">if(typeof uet === 'function'){uet('bb','PricingWidget',{wb:1});}</script>\n",
       "<span class=\"ab_widget\">\n",
       "<!-- Display pricing widget for logged out, expired subscription, or if the always display flag is set -->\n",
       "<div class=\"a-section a-spacing-none white-bg\" id=\"pricing_widget_v1\"><div class=\"a-section a-padding-extra-large content_container\"><div class=\"a-section a-spacing-none a-spacing-top-none a-text-center\"> <span class=\"a-size-large a-color-\">How much does a membership cost?</span>\n",
       "</div><div class=\"a-row a-spacing-top-medium\"><div class=\"a-column a-span5 a-push1\"><img alt=\"\" src=\"https://m.media-amazon.com/images/G/01/IMDbPro/images/PaymentBlock2x._CB1534371912_.png\"/></div><div class=\"a-column a-span5 a-pull1 a-spacing-top-none a-span-last\"><div class=\"a-box-group a-spacing-none a-spacing-top-none\" role=\"list\"><div class=\"a-box\"><div class=\"a-box-inner a-padding-base\">\n",
       "<div class=\"a-row\"><div class=\"a-column a-span6 a-text-left\"> <span class=\"a-size-base a-color-base a-text-bold\">Annual Price</span>\n",
       "</div><div class=\"a-column a-span12 a-text-right a-spacing-none a-span-last\"> <span class=\"a-size-medium a-color-base\">$12.50/month</span>\n",
       "</div></div><div class=\"a-row\"><div class=\"a-section a-text-right\"> <span class=\"a-size-base a-color-secondary\">Billed annually ($149.99)</span>\n",
       "</div></div></div></div><div class=\"a-box\"><div class=\"a-box-inner a-padding-base\">\n",
       "<div class=\"a-row\"><div class=\"a-column a-span6 a-text-left\"> <span class=\"a-size-base a-color-base a-text-bold\">Monthly Price</span>\n",
       "</div><div class=\"a-column a-span12 a-text-right a-spacing-medium a-span-last\"> <span class=\"a-size-medium a-color-base\">$19.99/month</span>\n",
       "</div></div><div class=\"a-row\"><div class=\"a-section a-text-right\"> <span class=\"a-size-base a-color-secondary\"></span>\n",
       "</div></div></div></div></div>\n",
       "<div class=\"a-section a-spacing-none a-spacing-top-small\"><span class=\"a-size-medium a-color-base\"> Get access to industry data. Try it free for 30 days.\n",
       "</span></div>\n",
       "<div class=\"a-section a-spacing-none a-spacing-top-small\">\n",
       "<span class=\"a-button a-button-primary\"><span class=\"a-button-inner\"><a class=\"a-button-text\" data-bypasspublicrestriction=\"true\" href=\"https://pro.imdb.com/login/auth?u=%2Flogin%2Flwa&amp;imdbPageAction=signup&amp;ref_=spl_pricing_signup&amp;ref_=spl_pricing_signup\" role=\"button\"> Start your 30-day free trial\n",
       "</a></span></span></div>\n",
       "</div></div></div></div>\n",
       "</span>\n",
       "<script type=\"text/javascript\">\n",
       "if(typeof uex === 'function'){uex('ld','PricingWidget',{wb:1});}\n",
       "</script>\n",
       "<iframe src=\"/api/tracking/facebook/landing\" style=\"display:none\"></iframe>\n",
       "<iframe src=\"/api/tracking/google/landing\" style=\"display: none;\"></iframe>\n",
       "<iframe src=\"/api/tracking/google/remarketing\" style=\"display: none;\"></iframe>\n",
       "<iframe src=\"/api/tracking/marin/landing\" style=\"display: none;\"></iframe>\n",
       "<iframe src=\"/api/tracking/rodeo/landing\" style=\"display: none;\"></iframe>\n",
       "</div>\n",
       "<!-- Mobile footer layout -->\n",
       "<div class=\"a-section a-spacing-none\" id=\"logged_out_footer\"><div class=\"a-row content_container\"><div class=\"a-column a-span4 a-text-left a-spacing-double-large\"><div class=\"a-section a-padding-large\"><div class=\"a-section\"><a class=\"a-size- a-align- a-link- logo pro_grey aok-inline-block\" href=\"https://pro.imdb.com/?ref_=spl_ftr_hm_i\"></a><p class=\"a-spacing-top-base a-color-offset aok-block\">© 1990-2019 IMDb.com, Inc. or its affiliates.</p></div></div></div><div class=\"a-column a-span8 a-text-right a-spacing-double-large a-span-last\"><div class=\"a-section a-padding-large\">\n",
       "<div class=\"a-section a-spacing-extra-large aok-inline-block\"><ul class=\"a-unordered-list a-nostyle a-horizontal\"><li><span class=\"a-list-item\">\n",
       "<a class=\"a-size- a-align- a-link-\" data-bypasspublicrestriction=\"true\" href=\"https://help.imdb.com/imdbpro?ref_=pro_spl_ftr_help\">Help</a>\n",
       "</span></li>\n",
       "<span class=\"a-letter-space\"></span><span class=\"a-letter-space\"></span>\n",
       "<li><span class=\"a-list-item\"><a class=\"a-size- a-align- a-link-\" data-bypasspublicrestriction=\"true\" href=\"https://pro.imdb.com/subagreement?ref_=spl_ftr_subagree\" rel=\"noopener\" target=\"_blank\"> Subscriber Agreement\n",
       "</a></span></li>\n",
       "<span class=\"a-letter-space\"></span><span class=\"a-letter-space\"></span>\n",
       "<li><span class=\"a-list-item\"><a class=\"a-size- a-align- a-link-\" data-bypasspublicrestriction=\"true\" href=\"https://help.imdb.com/contact?ref_=spl_ftr_contactus\"> Contact Us\n",
       "</a></span></li>\n",
       "<span class=\"a-letter-space\"></span><span class=\"a-letter-space\"></span>\n",
       "<li><span class=\"a-list-item\">\n",
       "<a class=\"a-size- a-align- a-link- clickable_share_link\" data-bypasspublicrestriction=\"true\" href=\"http://www.imdb.com/privacy?ref_=pro_spl_ftr_privpol\" rel=\"noopener\" target=\"_blank\"> Privacy Policy\n",
       "</a></span></li></ul></div><ul class=\"a-unordered-list a-nostyle a-horizontal\"><li><span class=\"a-list-item\"><a class=\"a-size- a-align- a-link- icon facebook aok-inline-block clickable_share_link\" href=\"https://www.facebook.com/imdbpro\" rel=\"noopener\" target=\"_blank\" title=\"IMDbPro on Facebook\"></a></span></li><li><span class=\"a-list-item\"><a class=\"a-size- a-align- a-link- icon twitter aok-inline-block clickable_share_link\" href=\"https://twitter.com/imdbpro\" rel=\"noopener\" target=\"_blank\" title=\"IMDbPro on Twitter\"></a></span></li><li><span class=\"a-list-item\"><a class=\"a-size- a-align- a-link- icon instagram aok-inline-block clickable_share_link\" href=\"https://www.instagram.com/imdbpro\" rel=\"noopener\" target=\"_blank\" title=\"IMDbPro on Instagram\"></a></span></li></ul></div></div></div></div></div>\n",
       "</div></body></html>"
      ]
     },
     "execution_count": 170,
     "metadata": {},
     "output_type": "execute_result"
    }
   ],
   "source": [
    "soup"
   ]
  },
  {
   "cell_type": "code",
   "execution_count": 176,
   "metadata": {
    "scrolled": true
   },
   "outputs": [],
   "source": [
    "# driver = webdriver.Safari()"
   ]
  },
  {
   "cell_type": "code",
   "execution_count": 261,
   "metadata": {},
   "outputs": [],
   "source": [
    "network = pd.read_csv('network.csv', header=None)"
   ]
  },
  {
   "cell_type": "code",
   "execution_count": 262,
   "metadata": {
    "scrolled": true
   },
   "outputs": [
    {
     "data": {
      "text/html": [
       "<div>\n",
       "<style scoped>\n",
       "    .dataframe tbody tr th:only-of-type {\n",
       "        vertical-align: middle;\n",
       "    }\n",
       "\n",
       "    .dataframe tbody tr th {\n",
       "        vertical-align: top;\n",
       "    }\n",
       "\n",
       "    .dataframe thead th {\n",
       "        text-align: right;\n",
       "    }\n",
       "</style>\n",
       "<table border=\"1\" class=\"dataframe\">\n",
       "  <thead>\n",
       "    <tr style=\"text-align: right;\">\n",
       "      <th></th>\n",
       "      <th>0</th>\n",
       "      <th>1</th>\n",
       "      <th>2</th>\n",
       "    </tr>\n",
       "  </thead>\n",
       "  <tbody>\n",
       "    <tr>\n",
       "      <th>0</th>\n",
       "      <td>NaN</td>\n",
       "      <td>142</td>\n",
       "      <td>The Avengers</td>\n",
       "    </tr>\n",
       "    <tr>\n",
       "      <th>1</th>\n",
       "      <td>Chris Evans</td>\n",
       "      <td>NaN</td>\n",
       "      <td>NaN</td>\n",
       "    </tr>\n",
       "    <tr>\n",
       "      <th>2</th>\n",
       "      <td>Actor</td>\n",
       "      <td>NaN</td>\n",
       "      <td>NaN</td>\n",
       "    </tr>\n",
       "    <tr>\n",
       "      <th>3</th>\n",
       "      <td>NaN</td>\n",
       "      <td>282</td>\n",
       "      <td>The Avengers</td>\n",
       "    </tr>\n",
       "    <tr>\n",
       "      <th>4</th>\n",
       "      <td>NaN</td>\n",
       "      <td>NaN</td>\n",
       "      <td>NaN</td>\n",
       "    </tr>\n",
       "    <tr>\n",
       "      <th>...</th>\n",
       "      <td>...</td>\n",
       "      <td>...</td>\n",
       "      <td>...</td>\n",
       "    </tr>\n",
       "    <tr>\n",
       "      <th>394</th>\n",
       "      <td>Actor</td>\n",
       "      <td>NaN</td>\n",
       "      <td>NaN</td>\n",
       "    </tr>\n",
       "    <tr>\n",
       "      <th>395</th>\n",
       "      <td>NaN</td>\n",
       "      <td>391</td>\n",
       "      <td>Casino Royale</td>\n",
       "    </tr>\n",
       "    <tr>\n",
       "      <th>396</th>\n",
       "      <td>NaN</td>\n",
       "      <td>NaN</td>\n",
       "      <td>NaN</td>\n",
       "    </tr>\n",
       "    <tr>\n",
       "      <th>397</th>\n",
       "      <td>Daniel Craig</td>\n",
       "      <td>NaN</td>\n",
       "      <td>NaN</td>\n",
       "    </tr>\n",
       "    <tr>\n",
       "      <th>398</th>\n",
       "      <td>Actor</td>\n",
       "      <td>NaN</td>\n",
       "      <td>NaN</td>\n",
       "    </tr>\n",
       "  </tbody>\n",
       "</table>\n",
       "<p>399 rows × 3 columns</p>\n",
       "</div>"
      ],
      "text/plain": [
       "                0    1              2\n",
       "0             NaN  142   The Avengers\n",
       "1     Chris Evans  NaN            NaN\n",
       "2           Actor  NaN            NaN\n",
       "3             NaN  282   The Avengers\n",
       "4             NaN  NaN            NaN\n",
       "..            ...  ...            ...\n",
       "394         Actor  NaN            NaN\n",
       "395           NaN  391  Casino Royale\n",
       "396           NaN  NaN            NaN\n",
       "397  Daniel Craig  NaN            NaN\n",
       "398         Actor  NaN            NaN\n",
       "\n",
       "[399 rows x 3 columns]"
      ]
     },
     "execution_count": 262,
     "metadata": {},
     "output_type": "execute_result"
    }
   ],
   "source": [
    "network"
   ]
  },
  {
   "cell_type": "code",
   "execution_count": 263,
   "metadata": {},
   "outputs": [
    {
     "data": {
      "text/plain": [
       "False"
      ]
     },
     "execution_count": 263,
     "metadata": {},
     "output_type": "execute_result"
    }
   ],
   "source": [
    "pd.notnull(network.iloc[:,0][0])"
   ]
  },
  {
   "cell_type": "code",
   "execution_count": 264,
   "metadata": {},
   "outputs": [],
   "source": [
    "actors = [x for x in network.iloc[:,0].values if(pd.notnull(x))]\n",
    "actors = [actors[x] for x in range(len(actors)) if(x%2==0)]\n",
    "# actors"
   ]
  },
  {
   "cell_type": "code",
   "execution_count": 265,
   "metadata": {},
   "outputs": [],
   "source": [
    "starmeter = [x for x in network.iloc[:,1].values if (pd.notnull(x))]"
   ]
  },
  {
   "cell_type": "code",
   "execution_count": 266,
   "metadata": {},
   "outputs": [],
   "source": [
    "known_for = [x for x in network.iloc[:,2].values if(pd.notnull(x))]"
   ]
  },
  {
   "cell_type": "code",
   "execution_count": 267,
   "metadata": {},
   "outputs": [],
   "source": [
    "network = pd.DataFrame({'name': actors, 'starmeter': starmeter, 'known_for': known_for})"
   ]
  },
  {
   "cell_type": "code",
   "execution_count": 268,
   "metadata": {},
   "outputs": [],
   "source": [
    "network = network.append(pd.DataFrame({'name':'Robert Downey Jr.', 'starmeter':0, 'known_for': 'The Avengers'}, index=[0])).reset_index(drop=True)"
   ]
  },
  {
   "cell_type": "code",
   "execution_count": 352,
   "metadata": {},
   "outputs": [],
   "source": [
    "top = network.iloc[:10, :]"
   ]
  },
  {
   "cell_type": "code",
   "execution_count": 353,
   "metadata": {},
   "outputs": [
    {
     "data": {
      "text/html": [
       "<div>\n",
       "<style scoped>\n",
       "    .dataframe tbody tr th:only-of-type {\n",
       "        vertical-align: middle;\n",
       "    }\n",
       "\n",
       "    .dataframe tbody tr th {\n",
       "        vertical-align: top;\n",
       "    }\n",
       "\n",
       "    .dataframe thead th {\n",
       "        text-align: right;\n",
       "    }\n",
       "</style>\n",
       "<table border=\"1\" class=\"dataframe\">\n",
       "  <thead>\n",
       "    <tr style=\"text-align: right;\">\n",
       "      <th></th>\n",
       "      <th>name</th>\n",
       "      <th>starmeter</th>\n",
       "      <th>known_for</th>\n",
       "    </tr>\n",
       "  </thead>\n",
       "  <tbody>\n",
       "    <tr>\n",
       "      <th>0</th>\n",
       "      <td>Chris Evans</td>\n",
       "      <td>142</td>\n",
       "      <td>The Avengers</td>\n",
       "    </tr>\n",
       "    <tr>\n",
       "      <th>1</th>\n",
       "      <td>Chris Hemsworth</td>\n",
       "      <td>282</td>\n",
       "      <td>The Avengers</td>\n",
       "    </tr>\n",
       "    <tr>\n",
       "      <th>2</th>\n",
       "      <td>Mark Ruffalo</td>\n",
       "      <td>784</td>\n",
       "      <td>The Kids Are All Right</td>\n",
       "    </tr>\n",
       "    <tr>\n",
       "      <th>3</th>\n",
       "      <td>Scarlett Johansson</td>\n",
       "      <td>81</td>\n",
       "      <td>Her</td>\n",
       "    </tr>\n",
       "    <tr>\n",
       "      <th>4</th>\n",
       "      <td>Tom Holland</td>\n",
       "      <td>162</td>\n",
       "      <td>Spider-Man: Homecoming</td>\n",
       "    </tr>\n",
       "  </tbody>\n",
       "</table>\n",
       "</div>"
      ],
      "text/plain": [
       "                 name starmeter               known_for\n",
       "0         Chris Evans       142            The Avengers\n",
       "1     Chris Hemsworth       282            The Avengers\n",
       "2        Mark Ruffalo       784  The Kids Are All Right\n",
       "3  Scarlett Johansson        81                     Her\n",
       "4         Tom Holland       162  Spider-Man: Homecoming"
      ]
     },
     "execution_count": 353,
     "metadata": {},
     "output_type": "execute_result"
    }
   ],
   "source": [
    "top.head()"
   ]
  },
  {
   "cell_type": "code",
   "execution_count": 465,
   "metadata": {},
   "outputs": [
    {
     "name": "stderr",
     "output_type": "stream",
     "text": [
      "/Users/jeffliao/anaconda3/lib/python3.7/site-packages/ipykernel_launcher.py:1: SettingWithCopyWarning: \n",
      "A value is trying to be set on a copy of a slice from a DataFrame.\n",
      "Try using .loc[row_indexer,col_indexer] = value instead\n",
      "\n",
      "See the caveats in the documentation: http://pandas.pydata.org/pandas-docs/stable/user_guide/indexing.html#returning-a-view-versus-a-copy\n",
      "  \"\"\"Entry point for launching an IPython kernel.\n"
     ]
    }
   ],
   "source": [
    "top['relationship'] = [x**2 for x in range(len(top),0 ,-1)]"
   ]
  },
  {
   "cell_type": "code",
   "execution_count": 466,
   "metadata": {},
   "outputs": [
    {
     "name": "stderr",
     "output_type": "stream",
     "text": [
      "/Users/jeffliao/anaconda3/lib/python3.7/site-packages/ipykernel_launcher.py:1: SettingWithCopyWarning: \n",
      "A value is trying to be set on a copy of a slice from a DataFrame.\n",
      "Try using .loc[row_indexer,col_indexer] = value instead\n",
      "\n",
      "See the caveats in the documentation: http://pandas.pydata.org/pandas-docs/stable/user_guide/indexing.html#returning-a-view-versus-a-copy\n",
      "  \"\"\"Entry point for launching an IPython kernel.\n"
     ]
    }
   ],
   "source": [
    "top['x'] = [x*7 for x in range(len(top))]"
   ]
  },
  {
   "cell_type": "code",
   "execution_count": 467,
   "metadata": {},
   "outputs": [
    {
     "name": "stderr",
     "output_type": "stream",
     "text": [
      "/Users/jeffliao/anaconda3/lib/python3.7/site-packages/ipykernel_launcher.py:1: SettingWithCopyWarning: \n",
      "A value is trying to be set on a copy of a slice from a DataFrame.\n",
      "Try using .loc[row_indexer,col_indexer] = value instead\n",
      "\n",
      "See the caveats in the documentation: http://pandas.pydata.org/pandas-docs/stable/user_guide/indexing.html#returning-a-view-versus-a-copy\n",
      "  \"\"\"Entry point for launching an IPython kernel.\n",
      "/Users/jeffliao/anaconda3/lib/python3.7/site-packages/ipykernel_launcher.py:2: SettingWithCopyWarning: \n",
      "A value is trying to be set on a copy of a slice from a DataFrame.\n",
      "Try using .loc[row_indexer,col_indexer] = value instead\n",
      "\n",
      "See the caveats in the documentation: http://pandas.pydata.org/pandas-docs/stable/user_guide/indexing.html#returning-a-view-versus-a-copy\n",
      "  \n"
     ]
    }
   ],
   "source": [
    "top['y'] = [0 for x in range(len(top))]\n",
    "top['Circley'] = [0 for x in range(len(top))]"
   ]
  },
  {
   "cell_type": "code",
   "execution_count": 491,
   "metadata": {},
   "outputs": [],
   "source": [
    "base = pd.DataFrame({\n",
    "    'name': 'Robert Downey Jr',\n",
    "    'starmeter': 0,\n",
    "    'known_for': 'The Avengers',\n",
    "    'relationship': top['relationship'].values,\n",
    "    'x': int(np.mean(top['x'].values)),\n",
    "    'y': 5,\n",
    "    'Circley': 5\n",
    "    },\n",
    "    index = range(len(top))\n",
    ")"
   ]
  },
  {
   "cell_type": "code",
   "execution_count": 492,
   "metadata": {},
   "outputs": [],
   "source": [
    "network_df = top.copy()#pd.DataFrame(columns=['name', 'starmeter','known_for','x','y','Circley'])"
   ]
  },
  {
   "cell_type": "code",
   "execution_count": 493,
   "metadata": {},
   "outputs": [],
   "source": [
    "network_df = network_df.append(base).reset_index(drop=True)"
   ]
  },
  {
   "cell_type": "code",
   "execution_count": 509,
   "metadata": {},
   "outputs": [],
   "source": [
    "size = [x for x in range(len(top),0 ,-1)]\n",
    "size.extend([5 for _ in range(10)])"
   ]
  },
  {
   "cell_type": "code",
   "execution_count": 510,
   "metadata": {},
   "outputs": [
    {
     "data": {
      "text/plain": [
       "[10, 9, 8, 7, 6, 5, 4, 3, 2, 1, 1, 1, 1, 1, 1, 1, 1, 1, 1, 1]"
      ]
     },
     "execution_count": 510,
     "metadata": {},
     "output_type": "execute_result"
    }
   ],
   "source": [
    "size"
   ]
  },
  {
   "cell_type": "code",
   "execution_count": 511,
   "metadata": {},
   "outputs": [],
   "source": [
    "network_df['Marvel'] = [1,1,1,1,1,1,1,1,1,1,1,1,1,1,1,1,1,1,1,1]"
   ]
  },
  {
   "cell_type": "code",
   "execution_count": 512,
   "metadata": {},
   "outputs": [],
   "source": [
    "network_df['size'] = size"
   ]
  },
  {
   "cell_type": "code",
   "execution_count": 513,
   "metadata": {},
   "outputs": [],
   "source": [
    "network_df.to_csv('also.csv')"
   ]
  },
  {
   "cell_type": "code",
   "execution_count": null,
   "metadata": {},
   "outputs": [],
   "source": []
  }
 ],
 "metadata": {
  "kernelspec": {
   "display_name": "Python 3",
   "language": "python",
   "name": "python3"
  },
  "language_info": {
   "codemirror_mode": {
    "name": "ipython",
    "version": 3
   },
   "file_extension": ".py",
   "mimetype": "text/x-python",
   "name": "python",
   "nbconvert_exporter": "python",
   "pygments_lexer": "ipython3",
   "version": "3.7.5"
  }
 },
 "nbformat": 4,
 "nbformat_minor": 2
}
